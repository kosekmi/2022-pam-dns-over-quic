{
 "cells": [
  {
   "cell_type": "markdown",
   "id": "67bca4cb",
   "metadata": {},
   "source": [
    "# Performance"
   ]
  },
  {
   "cell_type": "code",
   "execution_count": null,
   "id": "89e11bc2",
   "metadata": {},
   "outputs": [],
   "source": [
    "import numpy as np\n",
    "import sqlite3 as sq\n",
    "import matplotlib.pyplot as plt\n",
    "import pandas as pd\n",
    "pd.options.mode.chained_assignment = None  # default='warn'\n",
    "from collections import Counter\n",
    "import requests\n",
    "from mpl_toolkits.basemap import Basemap\n",
    "import time\n",
    "import json\n",
    "import tldextract\n",
    "\n",
    "class Colors:\n",
    "    udp = \"b\"\n",
    "    tcp = \"g\"\n",
    "    tls = \"gray\"\n",
    "    https = \"m\"\n",
    "    quic = \"c\"\n",
    "\n",
    "%matplotlib inline"
   ]
  },
  {
   "cell_type": "code",
   "execution_count": null,
   "id": "9b2dbf51",
   "metadata": {},
   "outputs": [],
   "source": [
    "from IPython.core.display import display, HTML\n",
    "display(HTML(\"<style>.container { width:95% !important; }</style>\"))"
   ]
  },
  {
   "cell_type": "code",
   "execution_count": null,
   "id": "896c0785",
   "metadata": {},
   "outputs": [],
   "source": [
    "def buildExtractedDomain(extracted):\n",
    "    result = \"\"\n",
    "    if extracted.subdomain != \"\" and extracted.subdomain != \"*\":\n",
    "        result += extracted.subdomain + \".\"\n",
    "    if extracted.domain != \"\" and extracted.suffix != \"\":\n",
    "        result += extracted.domain + \".\" + extracted.suffix\n",
    "    return result\n",
    "\n",
    "def mapToCommonName(info):\n",
    "    commonName = buildExtractedDomain(tldextract.extract(info[\"CommonName\"]))\n",
    "    if commonName != \"\":\n",
    "        return commonName\n",
    "    if info[\"DNSNames\"] == None:\n",
    "        return None\n",
    "    return buildExtractedDomain(tldextract.extract(info[\"DNSNames\"][0]))\n",
    "\n",
    "def calculateCDF(items):\n",
    "    count, bins_count = np.histogram(items, bins=\"auto\")\n",
    "\n",
    "    pdf = count / sum(count)\n",
    "\n",
    "    # using numpy np.cumsum to calculate the CDF\n",
    "    # We can also find using the PDF values by looping and adding\n",
    "    cdf = np.cumsum(pdf)\n",
    "    return bins_count[1:], cdf\n",
    "\n",
    "def setBoxesWhite(bp):\n",
    "    for patch in bp['boxes']:\n",
    "        patch.set_facecolor(\"white\")"
   ]
  },
  {
   "cell_type": "code",
   "execution_count": null,
   "id": "46fc726d",
   "metadata": {},
   "outputs": [],
   "source": [
    "params = {'legend.fontsize': 'x-large',\n",
    "         'axes.labelsize': 'x-large',\n",
    "         'axes.titlesize':'x-large',\n",
    "         'xtick.labelsize':'x-large',\n",
    "         'ytick.labelsize':'x-large'}\n",
    "\n",
    "plt.rcParams.update(params)"
   ]
  },
  {
   "cell_type": "code",
   "execution_count": null,
   "id": "6aa8f239",
   "metadata": {},
   "outputs": [],
   "source": [
    "connection_final = sq.connect(\"./performance/measurements.w03.db\")\n",
    "connection_final.row_factory = sq.Row\n",
    "\n",
    "connection_misc = sq.connect(\"./misc/merged-complete.db\")\n",
    "connection_misc.row_factory = sq.Row"
   ]
  },
  {
   "cell_type": "markdown",
   "id": "69c55f81",
   "metadata": {},
   "source": [
    "# ---------------------------------------------------------------------------------"
   ]
  },
  {
   "cell_type": "markdown",
   "id": "0b2ea1d6",
   "metadata": {},
   "source": [
    "# Data preparation"
   ]
  },
  {
   "cell_type": "code",
   "execution_count": null,
   "id": "17764721",
   "metadata": {
    "scrolled": false
   },
   "outputs": [],
   "source": [
    "#load dns_measurements w03\n",
    "measurements = pd.read_sql_query(\"SELECT * FROM dns_measurements WHERE NOT cache_warming\", connection_final)\n",
    "measurements"
   ]
  },
  {
   "cell_type": "code",
   "execution_count": null,
   "id": "063a4dde",
   "metadata": {},
   "outputs": [],
   "source": [
    "print(\"all measurements: \" + str(len(measurements)))\n",
    "print('doq: ' + str(len(measurements[measurements['protocol'] == 'quic'])))\n",
    "print('doh: ' + str(len(measurements[measurements['protocol'] == 'https'])))\n",
    "print('dot: ' + str(len(measurements[measurements['protocol'] == 'tls'])))\n",
    "print('dotcp: ' + str(len(measurements[measurements['protocol'] == 'tcp'])))\n",
    "print('doudp: ' + str(len(measurements[measurements['protocol'] == 'udp'])))\n"
   ]
  },
  {
   "cell_type": "markdown",
   "id": "bc4c6b07",
   "metadata": {},
   "source": [
    "## Account for QUIC targetting 3 ports"
   ]
  },
  {
   "cell_type": "code",
   "execution_count": null,
   "id": "e9dfb6b8",
   "metadata": {
    "scrolled": true
   },
   "outputs": [],
   "source": [
    "# merge misc ip/port combinations from week 2022-02 with measurements -> this removes all ports on resolvers which were not doq_verified\n",
    "\n",
    "sqlQuicPorts = \"\"\"\n",
    "select \n",
    "     ip, port\n",
    "from q_versions\n",
    "where strftime('%Y-%W', created_at) = '2022-02';\n",
    "\"\"\"\n",
    "quic_ports = pd.read_sql_query(sqlQuicPorts, connection_misc)\n",
    "quic_ports\n"
   ]
  },
  {
   "cell_type": "code",
   "execution_count": null,
   "id": "d2a45a65",
   "metadata": {},
   "outputs": [],
   "source": [
    "measurements_quic = measurements[measurements['protocol'] == 'quic']\n",
    "measurements_quic = measurements_quic.merge(quic_ports, on=['ip', 'port'])\n",
    "measurements_quic"
   ]
  },
  {
   "cell_type": "code",
   "execution_count": null,
   "id": "85347416",
   "metadata": {},
   "outputs": [],
   "source": [
    "# drop duplicates on floored timestamp and ip -> this removes resolvers with doubled ports (e.g., adguard)\n",
    "\n",
    "measurements_quic['created_datetime'] = pd.to_datetime(measurements_quic['created'], unit='s') \n",
    "measurements_quic['created_datetime_hour'] = measurements_quic['created_datetime'].dt.floor('h')\n",
    "measurements_quic_cleaned = measurements_quic.drop_duplicates(['ip', 'created_datetime_hour'])\n",
    "measurements_quic_cleaned\n"
   ]
  },
  {
   "cell_type": "code",
   "execution_count": null,
   "id": "c5edcc93",
   "metadata": {
    "scrolled": true
   },
   "outputs": [],
   "source": [
    "measurements = measurements[measurements['protocol'] != 'quic']\n",
    "measurements = pd.concat([measurements, measurements_quic_cleaned])\n",
    "measurements = measurements.drop(columns=['created_datetime', 'created_datetime_hour'])\n",
    "measurements"
   ]
  },
  {
   "cell_type": "code",
   "execution_count": null,
   "id": "889e2218",
   "metadata": {},
   "outputs": [],
   "source": [
    "print(\"all measurements: \" + str(len(measurements)))\n",
    "print('doq: ' + str(len(measurements[measurements['protocol'] == 'quic'])))\n",
    "print('doh: ' + str(len(measurements[measurements['protocol'] == 'https'])))\n",
    "print('dot: ' + str(len(measurements[measurements['protocol'] == 'tls'])))\n",
    "print('dotcp: ' + str(len(measurements[measurements['protocol'] == 'tcp'])))\n",
    "print('doudp: ' + str(len(measurements[measurements['protocol'] == 'udp'])))\n"
   ]
  },
  {
   "cell_type": "markdown",
   "id": "adc89c42",
   "metadata": {},
   "source": [
    "### All measurements of Resolvers which answered at least once with an r_code for every protocol"
   ]
  },
  {
   "cell_type": "code",
   "execution_count": null,
   "id": "35dea9cd",
   "metadata": {},
   "outputs": [],
   "source": [
    "# number of resolvers per protocol\n",
    "\n",
    "measuremens_ips_quic_responsive = set(measurements[~(measurements['r_code'].isna()) & (measurements['protocol'] == 'quic')]['ip'].unique())\n",
    "measuremens_ips_https_responsive = set(measurements[~(measurements['r_code'].isna()) & (measurements['protocol'] == 'https')]['ip'].unique())\n",
    "measuremens_ips_tls_responsive = set(measurements[~(measurements['r_code'].isna()) & (measurements['protocol'] == 'tls')]['ip'].unique())\n",
    "measuremens_ips_tcp_responsive = set(measurements[~(measurements['r_code'].isna()) & (measurements['protocol'] == 'tcp')]['ip'].unique())\n",
    "measuremens_ips_udp_responsive = set(measurements[~(measurements['r_code'].isna()) & (measurements['protocol'] == 'udp')]['ip'].unique())\n",
    "\n",
    "print('doq: ' + str(len(measuremens_ips_quic_responsive)))\n",
    "print('doh: ' + str(len(measuremens_ips_https_responsive)))\n",
    "print('dot: ' + str(len(measuremens_ips_tls_responsive)))\n",
    "print('dotcp: ' + str(len(measuremens_ips_tcp_responsive)))\n",
    "print('doudp: ' + str(len(measuremens_ips_udp_responsive)))\n"
   ]
  },
  {
   "cell_type": "code",
   "execution_count": null,
   "id": "aa837385",
   "metadata": {},
   "outputs": [],
   "source": [
    "# number of resolvers supporting every protocol\n",
    "measuremens_ips_all_responsive = set.intersection(measuremens_ips_quic_responsive, measuremens_ips_https_responsive, measuremens_ips_tls_responsive, measuremens_ips_tcp_responsive, measuremens_ips_udp_responsive)\n",
    "len(measuremens_ips_all_responsive)\n"
   ]
  },
  {
   "cell_type": "code",
   "execution_count": null,
   "id": "40f59140",
   "metadata": {},
   "outputs": [],
   "source": [
    "measurements_responsive = measurements[measurements['ip'].isin(measuremens_ips_all_responsive)]"
   ]
  },
  {
   "cell_type": "code",
   "execution_count": null,
   "id": "b93d757b",
   "metadata": {},
   "outputs": [],
   "source": [
    "print(\"all measurements: \" + str(len(measurements_responsive)))\n",
    "print('doq: ' + str(len(measurements_responsive[measurements_responsive['protocol'] == 'quic'])))\n",
    "print('doh: ' + str(len(measurements_responsive[measurements_responsive['protocol'] == 'https'])))\n",
    "print('dot: ' + str(len(measurements_responsive[measurements_responsive['protocol'] == 'tls'])))\n",
    "print('dotcp: ' + str(len(measurements_responsive[measurements_responsive['protocol'] == 'tcp'])))\n",
    "print('doudp: ' + str(len(measurements_responsive[measurements_responsive['protocol'] == 'udp'])))\n"
   ]
  },
  {
   "cell_type": "markdown",
   "id": "f34c0d7b",
   "metadata": {},
   "source": [
    "# ---------------------------------------------------------------------------------"
   ]
  },
  {
   "cell_type": "markdown",
   "id": "e4cbc44c",
   "metadata": {},
   "source": [
    "# Meta"
   ]
  },
  {
   "cell_type": "markdown",
   "id": "959fc533",
   "metadata": {},
   "source": [
    "## Stats"
   ]
  },
  {
   "cell_type": "code",
   "execution_count": null,
   "id": "491dc49f",
   "metadata": {},
   "outputs": [],
   "source": [
    "# total\n",
    "measurements_responsive_per_protocol = measurements_responsive.groupby('protocol').size().reset_index(name = \"total\")\n",
    "\n",
    "mask = (~measurements_responsive['r_code'].isna()) & (measurements_responsive['error'].isnull()) & (~measurements_responsive['total_time'].isna()) & (measurements_responsive['total_time'] < 5e9)\n",
    "\n",
    "# successful\n",
    "measurements_successful = measurements_responsive[mask]\n",
    "measurements_successful_per_protocol = measurements_successful.groupby('protocol').size().reset_index(name = \"sucessful\")\n",
    "\n",
    "measuremens_ips_quic_successful = set(measurements_successful[measurements_successful['protocol'] == 'quic']['ip'].unique())\n",
    "measuremens_ips_https_successful = set(measurements_successful[measurements_successful['protocol'] == 'https']['ip'].unique())\n",
    "measuremens_ips_tls_successful = set(measurements_successful[measurements_successful['protocol'] == 'tls']['ip'].unique())\n",
    "measuremens_ips_tcp_successful = set(measurements_successful[measurements_successful['protocol'] == 'tcp']['ip'].unique())\n",
    "measuremens_ips_udp_successful = set(measurements_successful[measurements_successful['protocol'] == 'udp']['ip'].unique())\n",
    "\n",
    "measuremens_ips_all_successful = set.intersection(measuremens_ips_quic_successful, measuremens_ips_https_successful, measuremens_ips_tls_successful, measuremens_ips_tcp_successful, measuremens_ips_udp_successful)\n",
    "print(len(measuremens_ips_all_responsive))\n",
    "# 264 resolvers are also successful\n",
    "\n",
    "\n",
    "# failed\n",
    "measurements_failed = measurements_responsive[~mask]\n",
    "measurements_failed_per_protocol = measurements_failed.groupby('protocol').size().reset_index(name = \"failed\")\n"
   ]
  },
  {
   "cell_type": "code",
   "execution_count": null,
   "id": "d5a01261",
   "metadata": {},
   "outputs": [],
   "source": [
    "measurements_stats = measurements_responsive_per_protocol.merge(measurements_successful_per_protocol)\n",
    "measurements_stats = measurements_stats.merge(measurements_failed_per_protocol)\n",
    "measurements_stats['failed_rel'] = (measurements_stats['failed'] / measurements_stats['total']).map(\" {:.2%}\".format) \n",
    "measurements_stats\n"
   ]
  },
  {
   "cell_type": "code",
   "execution_count": null,
   "id": "f82ae29e",
   "metadata": {},
   "outputs": [],
   "source": [
    "measurements_stats_pivot = measurements_stats.transpose()\n",
    "measurements_stats_pivot_header = measurements_stats_pivot.iloc[0]\n",
    "measurements_stats_pivot = measurements_stats_pivot[1:]\n",
    "measurements_stats_pivot.columns = measurements_stats_pivot_header\n",
    "measurements_stats_pivot.rename(columns={'https':'DoH','quic':'DoQ','tcp':'DoTCP','tls':'DoT','udp':'DoUDP'}, inplace=True)\n",
    "measurements_stats_pivot.rename({'total':'Total','sucessful':'Successful','failed_rel':'Failure Rate'}, axis='index', inplace=True)\n",
    "measurements_stats_pivot = measurements_stats_pivot.drop(['failed'])\n",
    "measurements_stats_pivot = measurements_stats_pivot[['DoQ', 'DoUDP', 'DoTCP', 'DoT', 'DoH']]\n",
    "measurements_stats_pivot\n",
    "print(measurements_stats_pivot.to_latex())\n"
   ]
  },
  {
   "cell_type": "markdown",
   "id": "447b053a",
   "metadata": {},
   "source": [
    "## Load Common Names from adoption of the week which was used for performance measurements"
   ]
  },
  {
   "cell_type": "code",
   "execution_count": null,
   "id": "dabdccf2",
   "metadata": {},
   "outputs": [],
   "source": [
    "certs = pd.read_csv(\"./misc/certs-last.csv\", converters={\"info\":json.loads}, header = None, names = [\"ip\", \"protocol\", \"port\", \"info\"])\n",
    "quic_certs_last_week = certs[certs[\"protocol\"] == \"quic\"]\n",
    "quic_certs_last_week[\"common_name\"] = quic_certs_last_week[\"info\"].apply(mapToCommonName)"
   ]
  },
  {
   "cell_type": "code",
   "execution_count": null,
   "id": "2ee3fda1",
   "metadata": {},
   "outputs": [],
   "source": [
    "quic_certs_last_week = quic_certs_last_week.drop_duplicates(subset = ['ip', 'common_name'])"
   ]
  },
  {
   "cell_type": "code",
   "execution_count": null,
   "id": "09746397",
   "metadata": {},
   "outputs": [],
   "source": [
    "count_by_common_name = quic_certs_last_week.groupby(\"common_name\").size().reset_index(name = \"count\").set_index(\"common_name\")\n",
    "count_by_common_name[\"rel\"] = (count_by_common_name[\"count\"] / count_by_common_name[\"count\"].sum()) * 100"
   ]
  },
  {
   "cell_type": "markdown",
   "id": "4d1f09aa",
   "metadata": {},
   "source": [
    "### nextdns.io"
   ]
  },
  {
   "cell_type": "code",
   "execution_count": null,
   "id": "2e5ee102",
   "metadata": {},
   "outputs": [],
   "source": [
    "quic_certs_nextdns = quic_certs_last_week[quic_certs_last_week['common_name'] == 'dns.nextdns.io']"
   ]
  },
  {
   "cell_type": "code",
   "execution_count": null,
   "id": "b1805fd6",
   "metadata": {},
   "outputs": [],
   "source": [
    "nextdns_ips = quic_certs_nextdns['ip']"
   ]
  },
  {
   "cell_type": "code",
   "execution_count": null,
   "id": "a3a6b612",
   "metadata": {},
   "outputs": [],
   "source": [
    "nextdns_ips_in_performance = set(nextdns_ips).intersection(measuremens_ips_all_responsive)\n",
    "nextdns_ips_in_performance\n",
    "\n",
    "# nextdns is not offering all protocols, and is thus not in performance"
   ]
  },
  {
   "cell_type": "markdown",
   "id": "abaa1760",
   "metadata": {},
   "source": [
    "### AdGuard"
   ]
  },
  {
   "cell_type": "code",
   "execution_count": null,
   "id": "705b0f38",
   "metadata": {},
   "outputs": [],
   "source": [
    "quic_certs_adguard = quic_certs_last_week[(quic_certs_last_week['common_name'] == 'dns.adguard.com') | (quic_certs_last_week['common_name'] == '*.d.adguard-dns.com') | (quic_certs_last_week['common_name'] == 'adguard.ch')]\n",
    "adguard_ips = quic_certs_adguard['ip']\n",
    "adguard_ips_in_performance = set(adguard_ips).intersection(measuremens_ips_all_responsive)\n",
    "adguard_ips_in_performance\n",
    "\n",
    "# adgurad is offering all protocols, and is thus in performance"
   ]
  },
  {
   "cell_type": "markdown",
   "id": "3000743a",
   "metadata": {},
   "source": [
    "# ---------------------------------------------------------------------------------"
   ]
  },
  {
   "cell_type": "markdown",
   "id": "3407c0b5",
   "metadata": {},
   "source": [
    "# Regional Distribution"
   ]
  },
  {
   "cell_type": "code",
   "execution_count": null,
   "id": "c487c6d5",
   "metadata": {},
   "outputs": [],
   "source": [
    "# get regional data from ip addresses\n",
    "data = {}\n",
    "try:\n",
    "    df = pd.read_csv(\"performance-ip-location.csv\")\n",
    "    for index, row in df.iterrows():\n",
    "        data[row[\"ip\"]] = row\n",
    "except:\n",
    "    pass\n",
    "for row in measuremens_ips_all_responsive:\n",
    "    #print(row)\n",
    "    r = requests.get(\"http://ip-api.com/json/\" + row)\n",
    "    json = r.json()\n",
    "    data[row] = {\n",
    "        \"country\": json[\"country\"],\n",
    "        \"countryCode\": json[\"countryCode\"],\n",
    "        \"region\": json[\"region\"],\n",
    "        \"regionName\": json[\"regionName\"],\n",
    "        \"city\": json[\"city\"],\n",
    "        \"zip\": json[\"zip\"],\n",
    "        \"lat\": json[\"lat\"],\n",
    "        \"lon\": json[\"lon\"],\n",
    "        \"org\": json[\"org\"],\n",
    "        \"as\": json[\"as\"],\n",
    "        \"ip\": row\n",
    "    }\n",
    "    time.sleep(1.5)\n",
    "measuremens_ips_all_responsive_regional = pd.DataFrame.from_dict(data, orient = \"index\")\n",
    "measuremens_ips_all_responsive_regional.to_csv(\"performance-ip-location.csv\", index = False)"
   ]
  },
  {
   "cell_type": "code",
   "execution_count": null,
   "id": "fb5b1e8f",
   "metadata": {
    "scrolled": false
   },
   "outputs": [],
   "source": [
    "measuremens_ips_all_responsive_regional"
   ]
  },
  {
   "cell_type": "markdown",
   "id": "20a11f39",
   "metadata": {},
   "source": [
    "## By Continent"
   ]
  },
  {
   "cell_type": "code",
   "execution_count": null,
   "id": "834de79c",
   "metadata": {},
   "outputs": [],
   "source": [
    "countriesContinents = pd.read_csv(\"Countries-Continents.csv\", index_col = False)\n",
    "renamed = countriesContinents.columns.tolist()\n",
    "renamed[0] = \"country\"\n",
    "countriesContinents.columns = renamed\n",
    "\n",
    "def mapToContinent(row):\n",
    "    if row[\"region\"] == \"Americas\" and row[\"intermediate-region\"] == \"South America\":\n",
    "        return \"South America (SA)\"\n",
    "    elif row[\"region\"] == \"Americas\":\n",
    "        return \"North America (NA)\"\n",
    "    elif row[\"region\"] == \"Asia\":\n",
    "        return \"Asia (AS)\"\n",
    "    elif row[\"region\"] == \"Europe\":\n",
    "        return \"Europe (EU)\"\n",
    "    elif row[\"region\"] == \"Oceania\":\n",
    "        return \"Oceania (OC)\"\n",
    "    elif row[\"region\"] == \"Africa\":\n",
    "        return \"Africa (AF)\"\n",
    "    return row[\"region\"]\n",
    "\n",
    "countriesContinents[\"continent\"] = countriesContinents.apply(mapToContinent, axis = 1)"
   ]
  },
  {
   "cell_type": "code",
   "execution_count": null,
   "id": "3079e19d",
   "metadata": {
    "scrolled": true
   },
   "outputs": [],
   "source": [
    "measuremens_ips_all_responsive_regional = pd.merge(measuremens_ips_all_responsive_regional, countriesContinents, on = \"country\")\n",
    "measuremens_ips_all_responsive_regional['continent'].value_counts()\n"
   ]
  },
  {
   "cell_type": "code",
   "execution_count": null,
   "id": "a04a2543",
   "metadata": {},
   "outputs": [],
   "source": [
    "dox_by_continent = pd.concat([measuremens_ips_all_responsive_regional['continent'].value_counts(),\n",
    "                                     measuremens_ips_all_responsive_regional['continent'].value_counts(normalize=True)], axis=1)\n",
    "dox_by_continent = dox_by_continent.reset_index() \n",
    "dox_by_continent.columns = ['Continent', 'abs', 'rel']\n",
    "dox_by_continent['rel'] = dox_by_continent['rel'].map(\" ({:.2%})\".format)\n",
    "dox_by_continent['DoX verified'] = dox_by_continent['abs'].astype(str) + dox_by_continent['rel']\n",
    "dox_by_continent = dox_by_continent[['Continent', 'DoX verified']]\n",
    "dox_by_continent"
   ]
  },
  {
   "cell_type": "markdown",
   "id": "4eebb285",
   "metadata": {},
   "source": [
    "## World map of resolvers"
   ]
  },
  {
   "cell_type": "code",
   "execution_count": null,
   "id": "7e67a669",
   "metadata": {},
   "outputs": [],
   "source": [
    "plt.figure(figsize=(12,6))\n",
    "worldMap = Basemap(projection='robin', lon_0=0, resolution='l')\n",
    "worldMap.drawcountries(color='#ffffff', linewidth=0.5)\n",
    "worldMap.fillcontinents(color='#c0c0c0', lake_color='#ffffff')\n",
    "x, y = worldMap(measuremens_ips_all_responsive_regional[\"lon\"].tolist(), measuremens_ips_all_responsive_regional[\"lat\"].tolist())\n",
    "homeX, homeY = worldMap([11.66864063068705], [48.26187023547006])\n",
    "plt.plot(x, y, 'ro', markersize = 3)\n",
    "plt.plot(homeX, homeY, 'bo', markersize = 4)\n",
    "plt.show()\n"
   ]
  },
  {
   "cell_type": "markdown",
   "id": "8658d566",
   "metadata": {},
   "source": [
    "## By ASN"
   ]
  },
  {
   "cell_type": "code",
   "execution_count": null,
   "id": "5e549136",
   "metadata": {},
   "outputs": [],
   "source": [
    "def lookupASName(asn):\n",
    "    r = requests.get(\"http://api.asrank.caida.org/v2/restful/asns/\" + str(asn))\n",
    "    json = r.json()\n",
    "    return json[\"data\"][\"asn\"][\"asnName\"]\n",
    "\n",
    "top_n = 10\n",
    "\n",
    "target_dist_by_asn = pd.concat([measuremens_ips_all_responsive_regional['as'].value_counts().head(top_n),\n",
    "                                     measuremens_ips_all_responsive_regional['as'].value_counts(normalize=True).head(top_n)], axis=1)\n",
    "target_dist_by_asn = target_dist_by_asn.reset_index() \n",
    "target_dist_by_asn.columns = ['ASN', 'abs', 'rel']\n",
    "target_dist_by_asn['rel'] = target_dist_by_asn['rel'].map(\" ({:.2%})\".format)\n",
    "target_dist_by_asn_table = target_dist_by_asn\n",
    "\n",
    "target_dist_by_asn_table['ASN'] = target_dist_by_asn_table['ASN'].str.split(' ', expand=True)[0]\n",
    "target_dist_by_asn_table['ASN'] = target_dist_by_asn_table['ASN'].str.slice(2)\n",
    "\n",
    "target_dist_by_asn_table['AS'] = target_dist_by_asn_table.apply(lambda row : lookupASName(row['ASN']), axis=1)\n",
    "\n",
    "target_dist_asn_list = target_dist_by_asn_table[['ASN']]\n"
   ]
  },
  {
   "cell_type": "code",
   "execution_count": null,
   "id": "6f3827cf",
   "metadata": {
    "scrolled": false
   },
   "outputs": [],
   "source": [
    "target_dist_by_asn_table"
   ]
  },
  {
   "cell_type": "code",
   "execution_count": null,
   "id": "4417a080",
   "metadata": {},
   "outputs": [],
   "source": [
    "len(measuremens_ips_all_responsive_regional['as'].value_counts())\n",
    "\n",
    "# all ASes observed for DoX verified"
   ]
  },
  {
   "cell_type": "markdown",
   "id": "e32b3944",
   "metadata": {},
   "source": [
    "# ---------------------------------------------------------------------------------"
   ]
  },
  {
   "cell_type": "markdown",
   "id": "63554fc3",
   "metadata": {},
   "source": [
    "# TCP"
   ]
  },
  {
   "cell_type": "markdown",
   "id": "4c9859a2",
   "metadata": {},
   "source": [
    "## TFO support"
   ]
  },
  {
   "cell_type": "code",
   "execution_count": null,
   "id": "72c55973",
   "metadata": {},
   "outputs": [],
   "source": [
    "tcp_tfo = pd.read_sql_query(\"SELECT * FROM fast_open_supports\", connection_misc)"
   ]
  },
  {
   "cell_type": "code",
   "execution_count": null,
   "id": "0392b601",
   "metadata": {},
   "outputs": [],
   "source": [
    "tcp_tfo_support = tcp_tfo[tcp_tfo['support'] != 0]\n",
    "tcp_tfo_support_ips = set(tcp_tfo_support['ip'].unique())\n",
    "len(tcp_tfo_support_ips)\n",
    "\n",
    "#208 resolvers with support for tfo"
   ]
  },
  {
   "cell_type": "code",
   "execution_count": null,
   "id": "2e44c37e",
   "metadata": {},
   "outputs": [],
   "source": [
    "tcp_tfo_support_ips_successful = set(measurements_successful['ip'].unique()).intersection(tcp_tfo_support_ips)\n",
    "\n",
    "len(tcp_tfo_support_ips_successful)\n",
    "#0 resolver with successful measurements supports tfo"
   ]
  },
  {
   "cell_type": "code",
   "execution_count": null,
   "id": "e5cfee8e",
   "metadata": {},
   "outputs": [],
   "source": [
    "measuremens_ips_all_responsive_regional[measuremens_ips_all_responsive_regional['ip'].isin(tcp_tfo_support_ips_successful)]\n"
   ]
  },
  {
   "cell_type": "code",
   "execution_count": null,
   "id": "ed204ae2",
   "metadata": {},
   "outputs": [],
   "source": [
    "quic_certs_last_week[quic_certs_last_week['ip'].isin(tcp_tfo_support_ips_successful)]\n"
   ]
  },
  {
   "cell_type": "code",
   "execution_count": null,
   "id": "883c3a4b",
   "metadata": {},
   "outputs": [],
   "source": [
    "#0 resolver with successful measurements which supports tfo"
   ]
  },
  {
   "cell_type": "markdown",
   "id": "e53b229e",
   "metadata": {},
   "source": [
    "## edns-tcp-keepalive support"
   ]
  },
  {
   "cell_type": "code",
   "execution_count": null,
   "id": "ff8713f8",
   "metadata": {},
   "outputs": [],
   "source": [
    "tcp_edns0_keepalive = pd.read_sql_query(\"SELECT * FROM e_dns0\", connection_misc)"
   ]
  },
  {
   "cell_type": "code",
   "execution_count": null,
   "id": "ee8a41d9",
   "metadata": {},
   "outputs": [],
   "source": [
    "tcp_edns0_keepalive_support = tcp_edns0_keepalive[tcp_edns0_keepalive['support'] != 0]\n",
    "tcp_edns0_keepalive_support_ips = set(tcp_edns0_keepalive_support['ip'].unique())\n",
    "\n",
    "len(tcp_edns0_keepalive_support_ips)\n",
    "#29 resolvers with support for edns0-tcp-keepalive"
   ]
  },
  {
   "cell_type": "code",
   "execution_count": null,
   "id": "f6d601a2",
   "metadata": {},
   "outputs": [],
   "source": [
    "tcp_edns0_keepalive_support_ips_successful = set(measurements_successful['ip'].unique()).intersection(tcp_edns0_keepalive_support_ips)\n",
    "len(tcp_edns0_keepalive_support_ips_successful)\n",
    "\n",
    "#18 resolver with successful measurements support edns0-tcp-keepalive"
   ]
  },
  {
   "cell_type": "code",
   "execution_count": null,
   "id": "53187dd3",
   "metadata": {},
   "outputs": [],
   "source": [
    "len(quic_certs_last_week[quic_certs_last_week['ip'].isin(tcp_edns0_keepalive_support_ips_successful)])\n",
    "#18 resolvers with successful measurements which support edns0-tcp-keepalive are all adguard\n"
   ]
  },
  {
   "cell_type": "code",
   "execution_count": null,
   "id": "6cdf31e6",
   "metadata": {},
   "outputs": [],
   "source": [
    "set(tcp_edns0_keepalive_support['timeout'] != 0)\n",
    "#all resolvers have a timeout value of 0, which signals to close the connection after having received the response.\n"
   ]
  },
  {
   "cell_type": "markdown",
   "id": "9f7216e4",
   "metadata": {},
   "source": [
    "# ---------------------------------------------------------------------------------"
   ]
  },
  {
   "cell_type": "markdown",
   "id": "0d706e16",
   "metadata": {},
   "source": [
    "## Account for Traceroutes"
   ]
  },
  {
   "cell_type": "code",
   "execution_count": null,
   "id": "4e53cec3",
   "metadata": {},
   "outputs": [],
   "source": [
    "traceroutes_destinations = pd.read_sql_query(\"SELECT * FROM traceroutes where dest_ip = hop_ip\", connection_final)"
   ]
  },
  {
   "cell_type": "code",
   "execution_count": null,
   "id": "d53676fc",
   "metadata": {},
   "outputs": [],
   "source": [
    "# remove traceroutes which are invalid\n",
    "traceroutes_destinations_successful = traceroutes_destinations[(~traceroutes_destinations['ttl'].isna()) & (traceroutes_destinations['rtt'] < 5e9)]\n"
   ]
  },
  {
   "cell_type": "code",
   "execution_count": null,
   "id": "3e995ec7",
   "metadata": {},
   "outputs": [],
   "source": [
    "# drop duplicates on dns_measurement_id\n",
    "traceroutes_destinations_successful_cleaned = traceroutes_destinations_successful.drop_duplicates(['dns_measurement_id'])\n"
   ]
  },
  {
   "cell_type": "code",
   "execution_count": null,
   "id": "1a9dc1e0",
   "metadata": {},
   "outputs": [],
   "source": [
    "# save udp, as we do not consider udp traceroutes\n",
    "measurements_successful_udp = measurements_successful[measurements_successful['protocol'] == 'udp']\n",
    "measurements_successful = measurements_successful[measurements_successful['protocol'] != 'udp']\n"
   ]
  },
  {
   "cell_type": "code",
   "execution_count": null,
   "id": "b2e93482",
   "metadata": {},
   "outputs": [],
   "source": [
    "# merge with measurements_successful\n",
    "measurements_traceroutes_successful = measurements_successful.merge(traceroutes_destinations_successful_cleaned, left_on=['id', 'protocol'], right_on=['dns_measurement_id', 'protocol'])\n"
   ]
  },
  {
   "cell_type": "code",
   "execution_count": null,
   "id": "24ca8f3a",
   "metadata": {},
   "outputs": [],
   "source": [
    "print(len(measurements_successful))\n",
    "print(len(measurements_traceroutes_successful))"
   ]
  },
  {
   "cell_type": "code",
   "execution_count": null,
   "id": "40f38f20",
   "metadata": {},
   "outputs": [],
   "source": [
    "# select only ips which have successful traceroute measurements on all protocols with handshakes\n",
    "measurements_traceroutes_successful_ips_doq = set(measurements_traceroutes_successful[measurements_traceroutes_successful['protocol'] == 'quic']['dest_ip'].unique())\n",
    "measurements_traceroutes_successful_ips_doh = set(measurements_traceroutes_successful[measurements_traceroutes_successful['protocol'] == 'https']['dest_ip'].unique())\n",
    "measurements_traceroutes_successful_ips_dot = set(measurements_traceroutes_successful[measurements_traceroutes_successful['protocol'] == 'tls']['dest_ip'].unique())\n",
    "measurements_traceroutes_successful_ips_dotcp = set(measurements_traceroutes_successful[measurements_traceroutes_successful['protocol'] == 'tcp']['dest_ip'].unique())\n",
    "measurements_traceroutes_successful_ips_udp = set(measurements_successful_udp['ip'])\n",
    "\n",
    "measurements_traceroutes_successful_ips_all= set.intersection(measurements_traceroutes_successful_ips_doq, measurements_traceroutes_successful_ips_doh, measurements_traceroutes_successful_ips_dot, measurements_traceroutes_successful_ips_dotcp, measurements_traceroutes_successful_ips_udp)\n",
    "measurements_traceroutes_successful_all = measurements_traceroutes_successful[measurements_traceroutes_successful['dest_ip'].isin(measurements_traceroutes_successful_ips_all)]\n",
    "\n",
    "measurements_traceroutes_successful_all"
   ]
  },
  {
   "cell_type": "code",
   "execution_count": null,
   "id": "b97dee69",
   "metadata": {},
   "outputs": [],
   "source": [
    "# add udp\n",
    "measurements_traceroutes_successful_all= measurements_traceroutes_successful_all.append(measurements_successful_udp[measurements_successful_udp['ip'].isin(measurements_traceroutes_successful_ips_all)])\n"
   ]
  },
  {
   "cell_type": "code",
   "execution_count": null,
   "id": "97b5f1d1",
   "metadata": {},
   "outputs": [],
   "source": [
    "print(\"all traceroute measurements: \" + str(len(measurements_traceroutes_successful_ips_all)))\n",
    "print('doq: ' + str(len(measurements_traceroutes_successful_ips_doq)))\n",
    "print('doh: ' + str(len(measurements_traceroutes_successful_ips_doh)))\n",
    "print('dot: ' + str(len(measurements_traceroutes_successful_ips_dot)))\n",
    "print('dotcp: ' + str(len(measurements_traceroutes_successful_ips_dotcp)))\n",
    "print('doudp: ' + str(len(set(measurements_traceroutes_successful[measurements_traceroutes_successful['protocol'] == 'udp']['dest_ip'].unique()))))"
   ]
  },
  {
   "cell_type": "markdown",
   "id": "cfbceab4",
   "metadata": {},
   "source": [
    "# ---------------------------------------------------------------------------------"
   ]
  },
  {
   "cell_type": "markdown",
   "id": "3c24af3e",
   "metadata": {},
   "source": [
    "# DoQ"
   ]
  },
  {
   "cell_type": "code",
   "execution_count": null,
   "id": "26a1b334",
   "metadata": {},
   "outputs": [],
   "source": [
    "doq_successful = measurements_traceroutes_successful_all[measurements_traceroutes_successful_all['protocol'] == 'quic']"
   ]
  },
  {
   "cell_type": "markdown",
   "id": "91ed2f2f",
   "metadata": {},
   "source": [
    "### 0-RTT support"
   ]
  },
  {
   "cell_type": "code",
   "execution_count": null,
   "id": "39748181",
   "metadata": {},
   "outputs": [],
   "source": [
    "quic_0_rtt = pd.read_sql_query(\"SELECT * FROM q0_rtt_supports\", connection_misc)"
   ]
  },
  {
   "cell_type": "code",
   "execution_count": null,
   "id": "61214b60",
   "metadata": {},
   "outputs": [],
   "source": [
    "quic_0_rtt[quic_0_rtt['support'] != 0]\n",
    "\n",
    "# no resolver with 0-RTT support"
   ]
  },
  {
   "cell_type": "markdown",
   "id": "4647425e",
   "metadata": {},
   "source": [
    "# ---------------------------------------------------------------------------------"
   ]
  },
  {
   "cell_type": "markdown",
   "id": "d746402f",
   "metadata": {},
   "source": [
    "# DoH"
   ]
  },
  {
   "cell_type": "code",
   "execution_count": null,
   "id": "afcd778f",
   "metadata": {},
   "outputs": [],
   "source": [
    "doh_successful = measurements_traceroutes_successful_all[measurements_traceroutes_successful_all['protocol'] == 'https']"
   ]
  },
  {
   "cell_type": "markdown",
   "id": "b52d17e1",
   "metadata": {},
   "source": [
    "### TLS versions"
   ]
  },
  {
   "cell_type": "code",
   "execution_count": null,
   "id": "66278f99",
   "metadata": {
    "scrolled": false
   },
   "outputs": [],
   "source": [
    "doh_successful_tls = doh_successful.groupby('tls_version').size().reset_index(name = \"total\")\n",
    "doh_successful_tls\n"
   ]
  },
  {
   "cell_type": "code",
   "execution_count": null,
   "id": "13298d38",
   "metadata": {
    "scrolled": true
   },
   "outputs": [],
   "source": [
    "doh_successful_tls['total'][1] / doh_successful_tls['total'].sum()\n"
   ]
  },
  {
   "cell_type": "markdown",
   "id": "67408b75",
   "metadata": {},
   "source": [
    "### HTTP versions"
   ]
  },
  {
   "cell_type": "code",
   "execution_count": null,
   "id": "0d8b41da",
   "metadata": {
    "scrolled": true
   },
   "outputs": [],
   "source": [
    "doh_successful_http = doh_successful.groupby('http_version').size().reset_index(name = \"total\")\n",
    "doh_successful_http\n"
   ]
  },
  {
   "cell_type": "code",
   "execution_count": null,
   "id": "e405f61b",
   "metadata": {},
   "outputs": [],
   "source": [
    "doh_successful_http['total'][1] / doh_successful_http['total'].sum()"
   ]
  },
  {
   "cell_type": "markdown",
   "id": "31cf88c6",
   "metadata": {},
   "source": [
    "# ---------------------------------------------------------------------------------"
   ]
  },
  {
   "cell_type": "markdown",
   "id": "10d93069",
   "metadata": {},
   "source": [
    "# DoT"
   ]
  },
  {
   "cell_type": "code",
   "execution_count": null,
   "id": "66c204df",
   "metadata": {},
   "outputs": [],
   "source": [
    "dot_successful = measurements_traceroutes_successful_all[measurements_traceroutes_successful_all['protocol'] == 'tls']"
   ]
  },
  {
   "cell_type": "markdown",
   "id": "1386c24a",
   "metadata": {},
   "source": [
    "### TLS versions"
   ]
  },
  {
   "cell_type": "code",
   "execution_count": null,
   "id": "197b887a",
   "metadata": {
    "scrolled": false
   },
   "outputs": [],
   "source": [
    "dot_successful_tls = dot_successful.groupby('tls_version').size().reset_index(name = \"total\")\n",
    "dot_successful_tls\n"
   ]
  },
  {
   "cell_type": "markdown",
   "id": "75087497",
   "metadata": {},
   "source": [
    "# ---------------------------------------------------------------------------------"
   ]
  },
  {
   "cell_type": "markdown",
   "id": "02d749c0",
   "metadata": {},
   "source": [
    "# DoTCP"
   ]
  },
  {
   "cell_type": "code",
   "execution_count": null,
   "id": "70959822",
   "metadata": {},
   "outputs": [],
   "source": [
    "dotcp_successful = measurements_traceroutes_successful_all[measurements_traceroutes_successful_all['protocol'] == 'tcp']"
   ]
  },
  {
   "cell_type": "markdown",
   "id": "e4ff6e47",
   "metadata": {},
   "source": [
    "# ---------------------------------------------------------------------------------"
   ]
  },
  {
   "cell_type": "markdown",
   "id": "bd0f0c92",
   "metadata": {},
   "source": [
    "# DoUDP"
   ]
  },
  {
   "cell_type": "code",
   "execution_count": null,
   "id": "400d13f8",
   "metadata": {},
   "outputs": [],
   "source": [
    "doudp_successful = measurements_traceroutes_successful_all[measurements_traceroutes_successful_all['protocol'] == 'udp']"
   ]
  },
  {
   "cell_type": "markdown",
   "id": "605d2319",
   "metadata": {},
   "source": [
    "# ---------------------------------------------------------------------------------"
   ]
  },
  {
   "cell_type": "markdown",
   "id": "d5694f26",
   "metadata": {},
   "source": [
    "# Protocol Comparison"
   ]
  },
  {
   "cell_type": "markdown",
   "id": "6c127a27",
   "metadata": {},
   "source": [
    "## Resolve Times"
   ]
  },
  {
   "cell_type": "code",
   "execution_count": null,
   "id": "9edc8878",
   "metadata": {},
   "outputs": [],
   "source": [
    "doq_query_time = list(doq_successful['query_time'] / 1000000)\n",
    "doh_query_time = list(doh_successful['query_time'] / 1000000)\n",
    "dot_query_time = list(dot_successful['query_time'] / 1000000)\n",
    "dotcp_query_time = list(dotcp_successful['query_time'] / 1000000)\n",
    "doudp_query_time = list(doudp_successful['query_time'] / 1000000)"
   ]
  },
  {
   "cell_type": "code",
   "execution_count": null,
   "id": "daec4714",
   "metadata": {
    "scrolled": true
   },
   "outputs": [],
   "source": [
    "fig = plt.figure(figsize = (10, 7))\n",
    "ax = fig.add_subplot(111)\n",
    "bp = ax.boxplot([doq_query_time, doh_query_time, dot_query_time, dotcp_query_time, doudp_query_time], vert = 0, sym = \"\", patch_artist=True, meanline = True, showmeans = True)\n",
    "setBoxesWhite(bp)\n",
    "\n",
    "for median in bp[\"medians\"]:\n",
    "    x, y = median.get_data()\n",
    "    ax.text(x[0] - 9, y[0] - 0.2, \"{:.0f}\".format(x[0]), fontsize = 9, color='black')\n",
    "\n",
    "    \n",
    "ax.set_yticklabels([\"DoQ\", \"DoH\", \"DoT\", \"DoTCP\", \"DoUDP\"])\n",
    "\n",
    "ax.set_xlabel('ms', fontsize = 12)\n",
    "ax.set_ylabel(\"Protocol\", fontsize = 12)\n",
    "plt.grid()\n",
    "\n",
    "plt.show(bp)"
   ]
  },
  {
   "cell_type": "code",
   "execution_count": null,
   "id": "2c30e2ae",
   "metadata": {},
   "outputs": [],
   "source": [
    "print('Samples:')\n",
    "print(len(doq_query_time))\n",
    "print(len(doh_query_time))\n",
    "print(len(dot_query_time))\n",
    "print(len(dotcp_query_time))\n",
    "print(len(doudp_query_time))"
   ]
  },
  {
   "cell_type": "code",
   "execution_count": null,
   "id": "87457fc0",
   "metadata": {},
   "outputs": [],
   "source": [
    "print('Means:')\n",
    "print(np.mean(doq_query_time))\n",
    "print(np.mean(doh_query_time))\n",
    "print(np.mean(dot_query_time))\n",
    "print(np.mean(dotcp_query_time))\n",
    "print(np.mean(doudp_query_time))\n",
    "\n",
    "print('Rate DoQ to DoUDP mean: ' + str(np.mean(doq_query_time) / np.mean(doudp_query_time)))\n",
    "print('Rate DoQ to DoH mean: ' + str(np.mean(doq_query_time) / np.mean(doh_query_time)))"
   ]
  },
  {
   "cell_type": "code",
   "execution_count": null,
   "id": "749da0b2",
   "metadata": {
    "scrolled": true
   },
   "outputs": [],
   "source": [
    "print('Medians:')\n",
    "print(np.median(doq_query_time))\n",
    "print(np.median(doh_query_time))\n",
    "print(np.median(dot_query_time))\n",
    "print(np.median(dotcp_query_time))\n",
    "print(np.median(doudp_query_time))\n",
    "\n",
    "print('Rate DoQ to DoUDP median: ' + str(np.median(doudp_query_time) / np.median(doq_query_time)))\n",
    "print('Rate DoQ to DoTCP median: ' + str(np.median(dotcp_query_time) / np.median(doq_query_time)))"
   ]
  },
  {
   "cell_type": "code",
   "execution_count": null,
   "id": "63064d31",
   "metadata": {
    "scrolled": false
   },
   "outputs": [],
   "source": [
    "fig, ax = plt.subplots(figsize = (7, 5))\n",
    "\n",
    "plt.plot(calculateCDF(doudp_query_time)[0], calculateCDF(doudp_query_time)[1], label=\"DoUDP\", color = Colors.udp)\n",
    "plt.plot(calculateCDF(dotcp_query_time)[0], calculateCDF(dotcp_query_time)[1], label=\"DoTCP\", color = Colors.tcp)\n",
    "plt.plot(calculateCDF(dot_query_time)[0], calculateCDF(dot_query_time)[1], label=\"DoT\", color = Colors.tls)\n",
    "plt.plot(calculateCDF(doh_query_time)[0], calculateCDF(doh_query_time)[1], label=\"DoH\", color = Colors.https)\n",
    "plt.plot(calculateCDF(doq_query_time)[0], calculateCDF(doq_query_time)[1], label=\"DoQ\", color = Colors.quic)\n",
    "\n",
    "handles, labels = ax.get_legend_handles_labels()\n",
    "ax.legend(handles[::-1], labels[::-1])\n",
    "\n",
    "plt.xlim([0, 400])\n",
    "plt.ylim([0, 1.05])\n",
    "plt.xticks([100,200,300,400])\n",
    "\n",
    "plt.xlabel(\"ms\", fontsize = 12)\n",
    "plt.ylabel(\"CDF\", fontsize = 12)\n",
    "\n",
    "#plt.legend()\n",
    "plt.grid()\n",
    "\n",
    "plt.show()"
   ]
  },
  {
   "cell_type": "markdown",
   "id": "ec0e87dc",
   "metadata": {},
   "source": [
    "## Handshake time"
   ]
  },
  {
   "cell_type": "code",
   "execution_count": null,
   "id": "befcf9b7",
   "metadata": {},
   "outputs": [],
   "source": [
    "doq_handshake_time = list(doq_successful['q_ui_c_handshake_duration'] / 1000000)\n",
    "doh_handshake_time = list((doh_successful['tcp_handshake_duration'] + doh_successful['tls_handshake_duration']) / 1000000)\n",
    "dot_handshake_time = list((dot_successful['tcp_handshake_duration'] + dot_successful['tls_handshake_duration']) / 1000000)\n",
    "dotcp_handshake_time = list(dotcp_successful['tcp_handshake_duration'] / 1000000)"
   ]
  },
  {
   "cell_type": "code",
   "execution_count": null,
   "id": "25ad3f9d",
   "metadata": {
    "scrolled": true
   },
   "outputs": [],
   "source": [
    "fig = plt.figure(figsize = (10, 7))\n",
    "ax = fig.add_subplot(111)\n",
    "bp = ax.boxplot([doq_handshake_time, doh_handshake_time, dot_handshake_time, dotcp_handshake_time], vert = 0, sym = \"\", patch_artist=True, meanline = True, showmeans = True)\n",
    "setBoxesWhite(bp)\n",
    "\n",
    "for median in bp[\"medians\"]:\n",
    "    x, y = median.get_data()\n",
    "    ax.text(x[0] - 9, y[0] - 0.2, \"{:.0f}\".format(x[0]), fontsize = 9, color='black')\n",
    "\n",
    "    \n",
    "ax.set_yticklabels([\"DoQ\", \"DoH\", \"DoT\", \"DoTCP\"])\n",
    "\n",
    "ax.set_xlabel('ms', fontsize = 12)\n",
    "ax.set_ylabel(\"Protocol\", fontsize = 12)\n",
    "plt.grid()\n",
    "\n",
    "plt.show(bp)"
   ]
  },
  {
   "cell_type": "code",
   "execution_count": null,
   "id": "7ab4b66f",
   "metadata": {},
   "outputs": [],
   "source": [
    "print('Samples:')\n",
    "print(len(doq_handshake_time))\n",
    "print(len(doh_handshake_time))\n",
    "print(len(dot_handshake_time))\n",
    "print(len(dotcp_handshake_time))\n"
   ]
  },
  {
   "cell_type": "code",
   "execution_count": null,
   "id": "fafe4b23",
   "metadata": {
    "scrolled": true
   },
   "outputs": [],
   "source": [
    "print('Means:')\n",
    "print(np.mean(doq_handshake_time))\n",
    "print(np.mean(doh_handshake_time))\n",
    "print(np.mean(dot_handshake_time))\n",
    "print(np.mean(dotcp_handshake_time))"
   ]
  },
  {
   "cell_type": "code",
   "execution_count": null,
   "id": "42541102",
   "metadata": {},
   "outputs": [],
   "source": [
    "print('Medians:')\n",
    "print(np.median(doq_handshake_time))\n",
    "print(np.median(doh_handshake_time))\n",
    "print(np.median(dot_handshake_time))\n",
    "print(np.median(dotcp_handshake_time))"
   ]
  },
  {
   "cell_type": "code",
   "execution_count": null,
   "id": "4a1479a9",
   "metadata": {
    "scrolled": true
   },
   "outputs": [],
   "source": [
    "fig = plt.figure(figsize = (7, 5))\n",
    "\n",
    "plt.plot(calculateCDF(doq_handshake_time)[0], calculateCDF(doq_handshake_time)[1], label=\"DoQ\", color = Colors.quic)\n",
    "plt.plot(calculateCDF(doh_handshake_time)[0], calculateCDF(doh_handshake_time)[1], label=\"DoH\", color = Colors.https)\n",
    "plt.plot(calculateCDF(dot_handshake_time)[0], calculateCDF(dot_handshake_time)[1], label=\"DoT\", color = Colors.tls)\n",
    "plt.plot(calculateCDF(dotcp_handshake_time)[0], calculateCDF(dotcp_handshake_time)[1], label=\"DoTCP\", color = Colors.tcp)\n",
    "\n",
    "plt.xlim([0, 1000])\n",
    "plt.ylim([0, 1.05])\n",
    "plt.xticks([100,200,300,400,500,600,700,800,900,1000])\n",
    "\n",
    "plt.xlabel(\"ms\", fontsize = 12)\n",
    "plt.ylabel(\"CDF\", fontsize = 12)\n",
    "\n",
    "plt.legend()\n",
    "plt.grid()\n",
    "\n",
    "plt.show()"
   ]
  },
  {
   "cell_type": "markdown",
   "id": "290814ae",
   "metadata": {},
   "source": [
    "## Traceroutes"
   ]
  },
  {
   "cell_type": "code",
   "execution_count": null,
   "id": "66c81424",
   "metadata": {},
   "outputs": [],
   "source": [
    "doq_traceroutes_time = list(doq_successful['rtt'] / 1000000)\n",
    "doh_traceroutes_time = list(doh_successful['rtt'] / 1000000)\n",
    "dot_traceroutes_time = list(dot_successful['rtt'] / 1000000)\n",
    "dotcp_traceroutes_time = list(dotcp_successful['rtt'] / 1000000)\n"
   ]
  },
  {
   "cell_type": "code",
   "execution_count": null,
   "id": "4917f4e4",
   "metadata": {},
   "outputs": [],
   "source": [
    "print('Traceroutes per protocol:')\n",
    "print(len(doq_traceroutes_time))\n",
    "print(len(doh_traceroutes_time))\n",
    "print(len(dot_traceroutes_time))\n",
    "print(len(dotcp_traceroutes_time))"
   ]
  },
  {
   "cell_type": "code",
   "execution_count": null,
   "id": "126820bf",
   "metadata": {},
   "outputs": [],
   "source": [
    "print('Mean traceroute times:')\n",
    "print(np.mean(doq_traceroutes_time))\n",
    "print(np.mean(doh_traceroutes_time))\n",
    "print(np.mean(dot_traceroutes_time))\n",
    "print(np.mean(dotcp_traceroutes_time))"
   ]
  },
  {
   "cell_type": "code",
   "execution_count": null,
   "id": "fae76480",
   "metadata": {
    "scrolled": true
   },
   "outputs": [],
   "source": [
    "print('Medians:')\n",
    "print(np.median(doq_traceroutes_time))\n",
    "print(np.median(doh_traceroutes_time))\n",
    "print(np.median(dot_traceroutes_time))\n",
    "print(np.median(dotcp_traceroutes_time))"
   ]
  },
  {
   "cell_type": "code",
   "execution_count": null,
   "id": "35f7bf4c",
   "metadata": {
    "scrolled": false
   },
   "outputs": [],
   "source": [
    "fig = plt.figure(figsize = (10, 7))\n",
    "ax = fig.add_subplot(111)\n",
    "bp = ax.boxplot([doq_traceroutes_time, doh_traceroutes_time, dot_traceroutes_time, dotcp_traceroutes_time], vert = 0, sym = \"\", patch_artist=True, meanline = True, showmeans = True)\n",
    "setBoxesWhite(bp)\n",
    "\n",
    "for median in bp[\"medians\"]:\n",
    "    x, y = median.get_data()\n",
    "    ax.text(x[0] - 9, y[0] - 0.2, \"{:.0f}\".format(x[0]), fontsize = 9, color='black')\n",
    "\n",
    "    \n",
    "ax.set_yticklabels([\"DoQ\", \"DoH\", \"DoT\", \"DoTCP\"])\n",
    "\n",
    "ax.set_xlabel('ms', fontsize = 12)\n",
    "ax.set_ylabel(\"Protocol\", fontsize = 12)\n",
    "plt.grid()\n",
    "\n",
    "plt.show(bp)"
   ]
  },
  {
   "cell_type": "code",
   "execution_count": null,
   "id": "8b9ba799",
   "metadata": {
    "scrolled": false
   },
   "outputs": [],
   "source": [
    "fig = plt.figure(figsize = (7, 5))\n",
    "\n",
    "plt.plot(calculateCDF(doq_traceroutes_time)[0], calculateCDF(doq_traceroutes_time)[1], label=\"DoQ\", color = Colors.quic)\n",
    "plt.plot(calculateCDF(doh_traceroutes_time)[0], calculateCDF(doh_traceroutes_time)[1], label=\"DoH\", color = Colors.https)\n",
    "plt.plot(calculateCDF(dot_traceroutes_time)[0], calculateCDF(dot_traceroutes_time)[1], label=\"DoT\", color = Colors.tls)\n",
    "plt.plot(calculateCDF(dotcp_traceroutes_time)[0], calculateCDF(dotcp_traceroutes_time)[1], label=\"DoTCP\", color = Colors.tcp)\n",
    "\n",
    "plt.xlim([0, 400])\n",
    "plt.ylim([0, 1.05])\n",
    "plt.xticks([100,200,300,400])\n",
    "\n",
    "plt.xlabel(\"ms\", fontsize = 12)\n",
    "plt.ylabel(\"CDF\", fontsize = 12)\n",
    "\n",
    "plt.legend()\n",
    "plt.grid()\n",
    "\n",
    "plt.show()"
   ]
  },
  {
   "cell_type": "markdown",
   "id": "7ba794cf",
   "metadata": {},
   "source": [
    "## Resolve Time + RTT"
   ]
  },
  {
   "cell_type": "code",
   "execution_count": null,
   "id": "2074ebec",
   "metadata": {},
   "outputs": [],
   "source": [
    "fig, main_ax = plt.subplots(figsize = (7, 5))\n",
    "\n",
    "main_ax.plot(calculateCDF(doudp_query_time)[0], calculateCDF(doudp_query_time)[1], label=\"DoUDP\")\n",
    "main_ax.plot(calculateCDF(dotcp_query_time)[0], calculateCDF(dotcp_query_time)[1], label=\"DoTCP\", color = Colors.tcp)\n",
    "main_ax.plot(calculateCDF(dot_query_time)[0], calculateCDF(dot_query_time)[1], label=\"DoT\", color = Colors.tls)\n",
    "main_ax.plot(calculateCDF(doh_query_time)[0], calculateCDF(doh_query_time)[1], label=\"DoH\", color = Colors.https)\n",
    "main_ax.plot(calculateCDF(doq_query_time)[0], calculateCDF(doq_query_time)[1], label=\"DoQ\", color = Colors.quic)\n",
    "\n",
    "main_ax.set_xlim([0, 400])\n",
    "main_ax.set_ylim([0, 1.05])\n",
    "main_ax.set_xticks(np.arange(0,410,50))\n",
    "main_ax.set_yticks(np.arange(0,1.05,0.1))\n",
    "\n",
    "main_ax.set_xlabel(\"Resolve time [ms]\")\n",
    "main_ax.set_ylabel(\"CDF\")\n",
    "\n",
    "main_ax.legend()\n",
    "handles, labels = main_ax.get_legend_handles_labels()\n",
    "leg = main_ax.legend(handles[::-1], labels[::-1])\n",
    "\n",
    "for hnd in leg.legendHandles:\n",
    "    hnd.set_linewidth(5)\n",
    "\n",
    "main_ax.spines['right'].set_visible(False)\n",
    "main_ax.spines['top'].set_visible(False)\n",
    "# main_ax.grid()\n",
    "\n",
    "# sub_ax = fig.add_axes([0.44, 0.2, 0.45, .25])\n",
    "sub_ax = fig.add_axes([0.57, 0.25, 0.33, .3])\n",
    "sub_ax.plot(calculateCDF(dotcp_traceroutes_time)[0], calculateCDF(dotcp_traceroutes_time)[1], label=\"DoTCP\", color = Colors.tcp)\n",
    "sub_ax.plot(calculateCDF(dot_traceroutes_time)[0], calculateCDF(dot_traceroutes_time)[1], label=\"DoT\", color = Colors.tls)\n",
    "sub_ax.plot(calculateCDF(doh_traceroutes_time)[0], calculateCDF(doh_traceroutes_time)[1], label=\"DoH\", color = Colors.https)\n",
    "sub_ax.plot(calculateCDF(doq_traceroutes_time)[0], calculateCDF(doq_traceroutes_time)[1], label=\"DoQ\", color = Colors.quic)\n",
    "\n",
    "sub_ax.legend().remove()\n",
    "sub_ax.set_xlabel('RTT [ms]')\n",
    "sub_ax.set_ylabel('CDF')\n",
    "sub_ax.set_xlim([0,400])\n",
    "sub_ax.set_ylim([-0.05,1.05])\n",
    "sub_ax.set_xticks(np.arange(0,410,100))\n",
    "sub_ax.set_yticks(np.arange(0,1.05,0.2))\n",
    "\n",
    "fig.show()"
   ]
  },
  {
   "cell_type": "markdown",
   "id": "9171f3a4",
   "metadata": {},
   "source": [
    "## Handshake Time / Traceroute"
   ]
  },
  {
   "cell_type": "code",
   "execution_count": null,
   "id": "5f3f701b",
   "metadata": {},
   "outputs": [],
   "source": [
    "doq_handshake_traceroute_time = list(doq_successful['q_ui_c_handshake_duration'] / doq_successful['rtt'])\n",
    "doh_handshake_traceroute_time = list((doh_successful['tcp_handshake_duration'] + doh_successful['tls_handshake_duration']) / doh_successful['rtt'])\n",
    "dot_handshake_traceroute_time = list((dot_successful['tcp_handshake_duration'] + dot_successful['tls_handshake_duration']) / dot_successful['rtt'])\n",
    "dotcp_handshake_traceroute_time = list(dotcp_successful['tcp_handshake_duration'] / dotcp_successful['rtt'])\n"
   ]
  },
  {
   "cell_type": "code",
   "execution_count": null,
   "id": "ee889ba4",
   "metadata": {
    "scrolled": true
   },
   "outputs": [],
   "source": [
    "print('Handshake/Traceroutes per protocol:')\n",
    "print(len(doq_handshake_traceroute_time))\n",
    "print(len(doh_handshake_traceroute_time))\n",
    "print(len(dot_handshake_traceroute_time))\n",
    "print(len(dotcp_handshake_traceroute_time))"
   ]
  },
  {
   "cell_type": "code",
   "execution_count": null,
   "id": "af25b987",
   "metadata": {
    "scrolled": true
   },
   "outputs": [],
   "source": [
    "fig = plt.figure(figsize = (7, 5))\n",
    "\n",
    "plt.plot(calculateCDF(doq_handshake_traceroute_time)[0], calculateCDF(doq_handshake_traceroute_time)[1], label=\"DoQ\", color = Colors.quic)\n",
    "plt.plot(calculateCDF(doh_handshake_traceroute_time)[0], calculateCDF(doh_handshake_traceroute_time)[1], label=\"DoH\", color = Colors.https)\n",
    "plt.plot(calculateCDF(dot_handshake_traceroute_time)[0], calculateCDF(dot_handshake_traceroute_time)[1], label=\"DoT\", color = Colors.tls)\n",
    "plt.plot(calculateCDF(dotcp_handshake_traceroute_time)[0], calculateCDF(dotcp_handshake_traceroute_time)[1], label=\"DoTCP\", color = Colors.tcp)\n",
    "\n",
    "plt.xlim([0, 6])\n",
    "plt.ylim([0.0, 1.05])\n",
    "\n",
    "plt.xlabel(\"Hanshake Time / RTT\", fontsize = 12)\n",
    "plt.ylabel(\"CDF\", fontsize = 12)\n",
    "\n",
    "plt.legend()\n",
    "plt.grid()\n",
    "\n",
    "plt.show()"
   ]
  },
  {
   "cell_type": "code",
   "execution_count": null,
   "id": "b1037c9f",
   "metadata": {},
   "outputs": [],
   "source": [
    "fig, main_ax = plt.subplots(figsize = (7, 5))\n",
    "\n",
    "main_ax.plot(calculateCDF(doq_handshake_time)[0], calculateCDF(doq_handshake_time)[1], label=\"DoQ\", color = Colors.quic)\n",
    "main_ax.plot(calculateCDF(doh_handshake_time)[0], calculateCDF(doh_handshake_time)[1], label=\"DoH\", color = Colors.https)\n",
    "main_ax.plot(calculateCDF(dot_handshake_time)[0], calculateCDF(dot_handshake_time)[1], label=\"DoT\", color = Colors.tls)\n",
    "main_ax.plot(calculateCDF(dotcp_handshake_time)[0], calculateCDF(dotcp_handshake_time)[1], label=\"DoTCP\", color = Colors.tcp)\n",
    "\n",
    "main_ax.set_xlim([0, 1000])\n",
    "main_ax.set_ylim([0, 1.05])\n",
    "main_ax.set_xticks(np.arange(100,1010,100))\n",
    "main_ax.set_yticks(np.arange(0,1.05,0.1))\n",
    "\n",
    "main_ax.set_xlabel(\"Handshake time [ms]\")\n",
    "main_ax.set_ylabel(\"CDF\")\n",
    "\n",
    "main_ax.legend().remove()\n",
    "# handles, labels = main_ax.get_legend_handles_labels()\n",
    "# main_ax.legend(handles[::-1], labels[::-1], loc='lower left', ncol=2, fontsize='large', columnspacing=1)\n",
    "\n",
    "main_ax.spines['right'].set_visible(False)\n",
    "main_ax.spines['top'].set_visible(False)\n",
    "# main_ax.grid()\n",
    "\n",
    "# sub_ax = fig.add_axes([0.44, 0.2, 0.45, .25])\n",
    "# sub_ax = fig.add_axes([0.5, 0.23, 0.375, .25])\n",
    "sub_ax = fig.add_axes([0.57, 0.25, 0.33, .3])\n",
    "sub_ax.plot(calculateCDF(doq_handshake_traceroute_time)[0], calculateCDF(doq_handshake_traceroute_time)[1], label=\"DoQ\", color = Colors.quic)\n",
    "sub_ax.plot(calculateCDF(doh_handshake_traceroute_time)[0], calculateCDF(doh_handshake_traceroute_time)[1], label=\"DoH\", color = Colors.https)\n",
    "sub_ax.plot(calculateCDF(dot_handshake_traceroute_time)[0], calculateCDF(dot_handshake_traceroute_time)[1], label=\"DoT\", color = Colors.tls)\n",
    "sub_ax.plot(calculateCDF(dotcp_handshake_traceroute_time)[0], calculateCDF(dotcp_handshake_traceroute_time)[1], label=\"DoTCP\", color = Colors.tcp)\n",
    "\n",
    "sub_ax.legend().remove()\n",
    "# sub_ax.spines['right'].set_visible(False)\n",
    "# sub_ax.spines['top'].set_visible(False)\n",
    "sub_ax.set_xlim([0,4])\n",
    "sub_ax.set_ylim([-0.05,1.05])\n",
    "sub_ax.set_xlabel('Handshake-to-RTT ratio')\n",
    "sub_ax.set_ylabel('CDF')\n",
    "sub_ax.set_xticks(np.arange(0,4,1))\n",
    "sub_ax.set_yticks(np.arange(0,1.05,0.2))\n",
    "\n",
    "fig.show()"
   ]
  },
  {
   "cell_type": "markdown",
   "id": "51527d1c",
   "metadata": {},
   "source": [
    "## DoH on RTT verified"
   ]
  },
  {
   "cell_type": "code",
   "execution_count": null,
   "id": "967fc00f",
   "metadata": {},
   "outputs": [],
   "source": [
    "doh_successful_traceroutes = doh_successful[doh_successful['ip'].isin(measurements_traceroutes_successful_ips_doh)]\n"
   ]
  },
  {
   "cell_type": "markdown",
   "id": "db6dc40e",
   "metadata": {},
   "source": [
    "### TLS versions"
   ]
  },
  {
   "cell_type": "code",
   "execution_count": null,
   "id": "f3252cea",
   "metadata": {
    "scrolled": false
   },
   "outputs": [],
   "source": [
    "doh_successful_traceroutes_tls = doh_successful_traceroutes.groupby('tls_version').size().reset_index(name = \"total\")\n",
    "doh_successful_traceroutes_tls\n",
    "\n",
    "# all measurements with TLS 1.2 are still there"
   ]
  },
  {
   "cell_type": "code",
   "execution_count": null,
   "id": "ca185e34",
   "metadata": {
    "scrolled": false
   },
   "outputs": [],
   "source": [
    "doh_successful_traceroutes_tls['total'][1] / doh_successful_traceroutes_tls['total'].sum()\n"
   ]
  },
  {
   "cell_type": "markdown",
   "id": "5a3d630f",
   "metadata": {},
   "source": [
    "## DoT on RTT verified"
   ]
  },
  {
   "cell_type": "code",
   "execution_count": null,
   "id": "111db006",
   "metadata": {},
   "outputs": [],
   "source": [
    "dot_successful_traceroutes = dot_successful[dot_successful['ip'].isin(measurements_traceroutes_successful_ips_dot)]\n"
   ]
  },
  {
   "cell_type": "markdown",
   "id": "05e69c74",
   "metadata": {},
   "source": [
    "### TLS versions"
   ]
  },
  {
   "cell_type": "code",
   "execution_count": null,
   "id": "59348b28",
   "metadata": {
    "scrolled": false
   },
   "outputs": [],
   "source": [
    "dot_successful_traceroutes_tls = dot_successful_traceroutes.groupby('tls_version').size().reset_index(name = \"total\")\n",
    "dot_successful_traceroutes_tls\n",
    "\n",
    "# all measurements with TLS 1.2 are still there"
   ]
  },
  {
   "cell_type": "code",
   "execution_count": null,
   "id": "8923a799",
   "metadata": {
    "scrolled": false
   },
   "outputs": [],
   "source": [
    "dot_successful_traceroutes_tls['total'][1] / dot_successful_traceroutes_tls['total'].sum()\n"
   ]
  },
  {
   "cell_type": "markdown",
   "id": "491b04c2",
   "metadata": {},
   "source": [
    "# QLOGS"
   ]
  },
  {
   "cell_type": "code",
   "execution_count": null,
   "id": "edc48ba0",
   "metadata": {},
   "outputs": [],
   "source": [
    "qlogs = pd.read_sql_query(\"SELECT * FROM q_log_outputs\", connection_final)\n",
    "qlogs"
   ]
  },
  {
   "cell_type": "code",
   "execution_count": null,
   "id": "3f12e7eb",
   "metadata": {},
   "outputs": [],
   "source": [
    "# select only qlogs from measurements_successful\n",
    "\n",
    "qlogs_successful = qlogs.merge(measurements_successful, left_on=['dns_measurement_id'], right_on=['id'])\n",
    "qlogs_successful"
   ]
  },
  {
   "cell_type": "code",
   "execution_count": null,
   "id": "6cacb28d",
   "metadata": {},
   "outputs": [],
   "source": [
    "len(qlogs_successful[qlogs_successful['cache_warming'] != 0])"
   ]
  },
  {
   "cell_type": "code",
   "execution_count": null,
   "id": "648df313",
   "metadata": {},
   "outputs": [],
   "source": [
    "# Samples with retry\n",
    "qlogs_successful_retry = qlogs_successful[qlogs_successful['content'].str.contains('retry')]\n",
    "\n",
    "print('Retry: ' + str(len(qlogs_successful_retry)) + ' / ' + str(len(qlogs_successful_retry) / len(qlogs_successful)))\n"
   ]
  },
  {
   "cell_type": "code",
   "execution_count": null,
   "id": "7b03c187",
   "metadata": {},
   "outputs": [],
   "source": [
    "# Samples with new_token\n",
    "qlogs_successful_new_token = qlogs_successful[qlogs_successful['content'].str.contains('new_token')]\n",
    "\n",
    "print('New Token: ' + str(len(qlogs_successful_new_token)) + ' / ' + str(len(qlogs_successful_new_token) / len(qlogs_successful)))\n"
   ]
  },
  {
   "cell_type": "code",
   "execution_count": null,
   "id": "e2b4a8b8",
   "metadata": {},
   "outputs": [],
   "source": [
    "# Samples with version negotiation\n",
    "qlogs_successful_version_negotiation = qlogs_successful[qlogs_successful['content'].str.contains('version_negotiation')]\n",
    "\n",
    "print('Version Negotitaion: ' + str(len(qlogs_successful_version_negotiation)) + ' / ' + str(len(qlogs_successful_version_negotiation) / len(qlogs_successful)))\n"
   ]
  },
  {
   "cell_type": "markdown",
   "id": "2d859483",
   "metadata": {},
   "source": [
    "# cache_warming = 1"
   ]
  },
  {
   "cell_type": "code",
   "execution_count": null,
   "id": "b7be18b0",
   "metadata": {},
   "outputs": [],
   "source": [
    "#load dns_measurements w03\n",
    "measurements_cache_warming = pd.read_sql_query(\"SELECT * FROM dns_measurements WHERE cache_warming = 1\", connection_final)\n"
   ]
  },
  {
   "cell_type": "code",
   "execution_count": null,
   "id": "d21469f6",
   "metadata": {},
   "outputs": [],
   "source": [
    "# merge misc ip/port combinations from week 2022-02 with measurements -> this removes all ports on resolvers which were not doq_verified\n",
    "\n",
    "measurements_cache_warming_quic = measurements_cache_warming[measurements_cache_warming['protocol'] == 'quic']\n",
    "measurements_cache_warming_quic = measurements_cache_warming_quic.merge(quic_ports, on=['ip', 'port'])\n"
   ]
  },
  {
   "cell_type": "code",
   "execution_count": null,
   "id": "bf53d71f",
   "metadata": {},
   "outputs": [],
   "source": [
    "# drop duplicates on floored timestamp and ip -> this removes resolvers with doubled ports (e.g., adguard)\n",
    "\n",
    "measurements_cache_warming_quic['created_datetime'] = pd.to_datetime(measurements_cache_warming_quic['created'], unit='s') \n",
    "measurements_cache_warming_quic['created_datetime_hour'] = measurements_cache_warming_quic['created_datetime'].dt.floor('h')\n",
    "measurements_cache_warming_quic_cleaned = measurements_cache_warming_quic.drop_duplicates(['ip', 'created_datetime_hour'])\n"
   ]
  },
  {
   "cell_type": "code",
   "execution_count": null,
   "id": "6d56578f",
   "metadata": {},
   "outputs": [],
   "source": [
    "# all measurements of Resolvers which answered at least once with an r_code for every protocol\n",
    "measurements_cache_warming_quic_cleaned_responsive = measurements_cache_warming_quic_cleaned[measurements_cache_warming_quic_cleaned['ip'].isin(measuremens_ips_all_responsive)]\n"
   ]
  },
  {
   "cell_type": "code",
   "execution_count": null,
   "id": "ce6e7354",
   "metadata": {},
   "outputs": [],
   "source": [
    "# only successful measurements\n",
    "\n",
    "mask = (~measurements_cache_warming_quic_cleaned_responsive['r_code'].isna()) & (measurements_cache_warming_quic_cleaned_responsive['error'].isnull()) & (~measurements_cache_warming_quic_cleaned_responsive['total_time'].isna()) & (measurements_cache_warming_quic_cleaned_responsive['total_time'] < 5e9)\n",
    "measurements_cache_warming_quic_cleaned_successful = measurements_cache_warming_quic_cleaned_responsive[mask]\n"
   ]
  },
  {
   "cell_type": "code",
   "execution_count": null,
   "id": "bd1c06a9",
   "metadata": {},
   "outputs": [],
   "source": [
    "# account for traceroutes\n",
    "measurements_cache_warming_quic_cleaned_successful_traceroutes = measurements_cache_warming_quic_cleaned_successful.merge(traceroutes_destinations_successful_cleaned, left_on=['id', 'protocol'], right_on=['dns_measurement_id', 'protocol'])\n",
    "measurements_cache_warming_quic_cleaned_successful_traceroutes\n"
   ]
  },
  {
   "cell_type": "code",
   "execution_count": null,
   "id": "f9e2cb79",
   "metadata": {},
   "outputs": [],
   "source": [
    "doq_cache_warming_handshake_time = list(measurements_cache_warming_quic_cleaned_successful_traceroutes['q_ui_c_handshake_duration'] / 1000000)\n",
    "doq_cache_warming_traceroutes_time = list(measurements_cache_warming_quic_cleaned_successful_traceroutes['rtt'] / 1000000)\n",
    "doq_cache_warming_handshake_traceroute_time = list(measurements_cache_warming_quic_cleaned_successful_traceroutes['q_ui_c_handshake_duration'] / measurements_cache_warming_quic_cleaned_successful_traceroutes['rtt'])\n",
    "\n"
   ]
  },
  {
   "cell_type": "code",
   "execution_count": null,
   "id": "a22487b8",
   "metadata": {},
   "outputs": [],
   "source": [
    "# custom linestyles and linewidth\n",
    "cor_quic_ls = (0, (3, 3))\n",
    "# cor_quic_ls = '--'\n",
    "cor_quic_lw = 2.25"
   ]
  },
  {
   "cell_type": "code",
   "execution_count": null,
   "id": "ecc8122a",
   "metadata": {},
   "outputs": [],
   "source": [
    "fig, main_ax = plt.subplots(figsize = (7, 5))\n",
    "\n",
    "main_ax.plot(calculateCDF(doq_handshake_time)[0], calculateCDF(doq_handshake_time)[1], label=\"DoQ\", color = Colors.quic)\n",
    "main_ax.plot(calculateCDF(doh_handshake_time)[0], calculateCDF(doh_handshake_time)[1], label=\"DoH\", color = Colors.https)\n",
    "main_ax.plot(calculateCDF(dot_handshake_time)[0], calculateCDF(dot_handshake_time)[1], label=\"DoT\", color = Colors.tls)\n",
    "main_ax.plot(calculateCDF(dotcp_handshake_time)[0], calculateCDF(dotcp_handshake_time)[1], label=\"DoTCP\", color = Colors.tcp)\n",
    "main_ax.plot(calculateCDF(doq_cache_warming_handshake_time)[0], calculateCDF(doq_cache_warming_handshake_time)[1], label=\"DoQ CW\", color = Colors.quic,\n",
    "            linestyle=cor_quic_ls, linewidth=cor_quic_lw)\n",
    "\n",
    "\n",
    "main_ax.set_xlim([0, 1300])\n",
    "main_ax.set_ylim([0, 1.05])\n",
    "main_ax.set_xticks(np.arange(0,1310,200))\n",
    "main_ax.set_yticks(np.arange(0,1.05,0.1))\n",
    "\n",
    "main_ax.set_xlabel(\"Handshake time [ms]\")\n",
    "main_ax.set_ylabel(\"CDF\")\n",
    "\n",
    "main_ax.legend().remove()\n",
    "# handles, labels = main_ax.get_legend_handles_labels()\n",
    "# main_ax.legend(handles[::-1], labels[::-1], loc='lower left', ncol=2, fontsize='large', columnspacing=1)\n",
    "\n",
    "main_ax.spines['right'].set_visible(False)\n",
    "main_ax.spines['top'].set_visible(False)\n",
    "# main_ax.grid()\n",
    "\n",
    "# sub_ax = fig.add_axes([0.44, 0.2, 0.45, .25])\n",
    "# sub_ax = fig.add_axes([0.5, 0.23, 0.375, .25])\n",
    "sub_ax = fig.add_axes([0.57, 0.25, 0.33, .3])\n",
    "sub_ax.plot(calculateCDF(doq_handshake_traceroute_time)[0], calculateCDF(doq_handshake_traceroute_time)[1], label=\"DoQ\", color = Colors.quic)\n",
    "sub_ax.plot(calculateCDF(doh_handshake_traceroute_time)[0], calculateCDF(doh_handshake_traceroute_time)[1], label=\"DoH\", color = Colors.https)\n",
    "sub_ax.plot(calculateCDF(dot_handshake_traceroute_time)[0], calculateCDF(dot_handshake_traceroute_time)[1], label=\"DoT\", color = Colors.tls)\n",
    "sub_ax.plot(calculateCDF(dotcp_handshake_traceroute_time)[0], calculateCDF(dotcp_handshake_traceroute_time)[1], label=\"DoTCP\", color = Colors.tcp)\n",
    "sub_ax.plot(calculateCDF(doq_cache_warming_handshake_traceroute_time)[0], calculateCDF(doq_cache_warming_handshake_traceroute_time)[1], label=\"DoQ CW\", color = Colors.quic,\n",
    "            linestyle=cor_quic_ls, linewidth=cor_quic_lw)\n",
    "\n",
    "\n",
    "sub_ax.legend().remove()\n",
    "# sub_ax.spines['right'].set_visible(False)\n",
    "# sub_ax.spines['top'].set_visible(False)\n",
    "sub_ax.set_xlim([0,5])\n",
    "sub_ax.set_ylim([-0.05,1.05])\n",
    "sub_ax.set_xlabel('Handshake-to-RTT ratio')\n",
    "sub_ax.set_ylabel('CDF')\n",
    "sub_ax.set_xticks(np.arange(0,6,1))\n",
    "sub_ax.set_yticks(np.arange(0,1.05,0.2))\n",
    "\n",
    "main_ax.annotate('First DoQ Session\\nEstablishments',\n",
    "                 xy=(850, 0.8), xycoords='data',\n",
    "                 xytext=(950, 0.8), textcoords='data',\n",
    "                 arrowprops=dict(facecolor='black', shrink=0.1, width=0.1, headwidth=5, headlength=5),\n",
    "                 ha='left', va='center',\n",
    "                 fontsize=12)\n",
    "sub_ax.annotate('',\n",
    "                xy=(4, 0.75), xycoords='data',\n",
    "                xytext=(4, 1.5), textcoords='data',\n",
    "                arrowprops=dict(facecolor='black', shrink=0.1, width=0.1, headwidth=5, headlength=5),\n",
    "                ha='right', va='bottom')\n",
    "\n",
    "fig.show()"
   ]
  },
  {
   "cell_type": "code",
   "execution_count": null,
   "id": "7ad10ca4",
   "metadata": {},
   "outputs": [],
   "source": [
    "print('mean/median:')\n",
    "print(np.mean(doq_cache_warming_handshake_time))\n",
    "print(np.median(doq_cache_warming_handshake_time))\n"
   ]
  },
  {
   "cell_type": "code",
   "execution_count": null,
   "id": "fc945e07",
   "metadata": {},
   "outputs": [],
   "source": []
  }
 ],
 "metadata": {
  "kernelspec": {
   "display_name": "Python 3.8.12",
   "language": "python",
   "name": "python3"
  },
  "language_info": {
   "codemirror_mode": {
    "name": "ipython",
    "version": 3
   },
   "file_extension": ".py",
   "mimetype": "text/x-python",
   "name": "python",
   "nbconvert_exporter": "python",
   "pygments_lexer": "ipython3",
   "version": "3.8.12"
  }
 },
 "nbformat": 4,
 "nbformat_minor": 5
}
