{
 "cells": [
  {
   "cell_type": "markdown",
   "id": "ba009661",
   "metadata": {},
   "source": [
    "# Adoption"
   ]
  },
  {
   "cell_type": "code",
   "execution_count": null,
   "id": "f9e3a3d5",
   "metadata": {},
   "outputs": [],
   "source": [
    "import numpy as np\n",
    "import sqlite3 as sq\n",
    "import matplotlib.pyplot as plt\n",
    "import pandas as pd\n",
    "pd.options.mode.chained_assignment = None  # default='warn'\n",
    "from collections import Counter\n",
    "import requests\n",
    "import time\n",
    "import json\n",
    "import importlib\n",
    "import tldextract\n",
    "from mpl_toolkits.basemap import Basemap\n",
    "\n",
    "%matplotlib inline"
   ]
  },
  {
   "cell_type": "code",
   "execution_count": null,
   "id": "c95fba41",
   "metadata": {},
   "outputs": [],
   "source": [
    "from IPython.core.display import display, HTML\n",
    "display(HTML(\"<style>.container { width:95% !important; }</style>\"))"
   ]
  },
  {
   "cell_type": "code",
   "execution_count": null,
   "id": "b1a0c2ba",
   "metadata": {},
   "outputs": [],
   "source": [
    "def toText(row):\n",
    "    if row[\"q_version\"] == 4278190109:\n",
    "        return \"Draft 29\"\n",
    "    elif row[\"q_version\"] == 4278190112:\n",
    "        return \"Draft 32\"\n",
    "    elif row[\"q_version\"] == 4278190114:\n",
    "        return \"Draft 34\"\n",
    "    elif row[\"q_version\"] == 1:\n",
    "        return \"1\"\n",
    "    else:\n",
    "        return \"Unknown\"\n",
    "\n",
    "def qVersionToText(row):\n",
    "    if row[\"q_version\"] == 4278190109:\n",
    "        return \"QUIC_Draft_29\"\n",
    "    elif row[\"q_version\"] == 4278190112:\n",
    "        return \"QUIC_Draft_32\"\n",
    "    elif row[\"q_version\"] == 4278190114:\n",
    "        return \"QUIC_Draft_34\"\n",
    "    elif row[\"q_version\"] == 1:\n",
    "        return \"QUIC_1\"\n",
    "    else:\n",
    "        return \"QUIC_Unknown\"\n",
    "\n",
    "def doqVersionToText(row):\n",
    "    if row[\"doq_version\"] == \"doq-i00\":\n",
    "        return \"DoQ_Draft_00\"\n",
    "    if row[\"doq_version\"] == \"doq-i01\":\n",
    "        return \"DoQ_Draft_01\"\n",
    "    if row[\"doq_version\"] == \"doq-i02\":\n",
    "        return \"DoQ_Draft_02\"\n",
    "    if row[\"doq_version\"] == \"doq-i03\":\n",
    "        return \"DoQ_Draft_03\"\n",
    "    if row[\"doq_version\"] == \"doq-i04\":\n",
    "        return \"DoQ_Draft_04\"\n",
    "    if row[\"doq_version\"] == \"doq-i05\":\n",
    "        return \"DoQ_Draft_05\"\n",
    "    if row[\"doq_version\"] == \"doq-i06\":\n",
    "        return \"DoQ_Draft_06\"\n",
    "    else:\n",
    "        return \"DoQ_Unknown\"\n",
    "    \n",
    "def qodQuicVersionPivot(quic_doq_versions):\n",
    "    quic_doq_versions_grouped = quic_doq_versions.groupby(['WeekNumber', 'doq_quic'])['ip'].size().reset_index(name = \"total_per_week\")\n",
    "\n",
    "    quic_doq_versions_grouped_pivot = quic_doq_versions_grouped.pivot(index = \"WeekNumber\", columns = \"doq_quic\", values = \"total_per_week\")\n",
    "    quic_doq_versions_grouped_pivot = quic_doq_versions_grouped_pivot.astype(pd.Int64Dtype())\n",
    "    quic_doq_versions_grouped_pivot = quic_doq_versions_grouped_pivot.fillna(0)\n",
    "    \n",
    "    return quic_doq_versions_grouped_pivot\n",
    "        \n",
    "def buildExtractedDomain(extracted):\n",
    "    result = \"\"\n",
    "    if extracted.subdomain != \"\" and extracted.subdomain != \"*\":\n",
    "        result += extracted.subdomain + \".\"\n",
    "    if extracted.domain != \"\" and extracted.suffix != \"\":\n",
    "        result += extracted.domain + \".\" + extracted.suffix\n",
    "    return result\n",
    "    \n",
    "def mapToCommonName(info):\n",
    "    commonName = buildExtractedDomain(tldextract.extract(info[\"CommonName\"]))\n",
    "    if commonName != \"\":\n",
    "        return commonName\n",
    "    if info[\"DNSNames\"] == None:\n",
    "        return None\n",
    "    return buildExtractedDomain(tldextract.extract(info[\"DNSNames\"][0]))\n"
   ]
  },
  {
   "cell_type": "code",
   "execution_count": null,
   "id": "72be6998",
   "metadata": {},
   "outputs": [],
   "source": [
    "connection_complete = sq.connect(\"./misc/merged-complete.db\")\n",
    "connection_complete.row_factory = sq.Row\n",
    "\n",
    "connection_q_versions_cleaned = sq.connect(\"./misc/merged-q_versions_cleaned.db\")\n",
    "connection_q_versions_cleaned.row_factory = sq.Row"
   ]
  },
  {
   "cell_type": "markdown",
   "id": "8c89c13c",
   "metadata": {},
   "source": [
    "# ---------------------------------------------------------------------------------"
   ]
  },
  {
   "cell_type": "markdown",
   "id": "dc60a830",
   "metadata": {},
   "source": [
    "## Remove duplicates due to targets offering DoQ on multiple ports"
   ]
  },
  {
   "cell_type": "code",
   "execution_count": null,
   "id": "ab66fba7",
   "metadata": {},
   "outputs": [],
   "source": [
    "sql_misc_df = \"\"\"\n",
    "select \n",
    "    strftime('%W', created_at) week_number, *\n",
    "from q_versions\n",
    "order by week_number asc;\n",
    "\"\"\"\n",
    "\n",
    "misc_df = pd.read_sql_query(sql_misc_df, connection_complete)"
   ]
  },
  {
   "cell_type": "code",
   "execution_count": null,
   "id": "6ff64036",
   "metadata": {},
   "outputs": [],
   "source": [
    "misc_df = misc_df.drop_duplicates(subset = ['week_number', 'ip', 'q_version', 'draft_version'])"
   ]
  },
  {
   "cell_type": "code",
   "execution_count": null,
   "id": "46a4396c",
   "metadata": {},
   "outputs": [],
   "source": [
    "conn = sq.connect('./misc/merged-q_versions_cleaned.db')\n",
    "misc_df.to_sql('q_versions_cleaned', conn, if_exists='replace', index=False)"
   ]
  },
  {
   "cell_type": "markdown",
   "id": "537bfbf4",
   "metadata": {},
   "source": [
    "# ---------------------------------------------------------------------------------"
   ]
  },
  {
   "cell_type": "markdown",
   "id": "64012e12",
   "metadata": {},
   "source": [
    "## QUIC versions over Time"
   ]
  },
  {
   "cell_type": "code",
   "execution_count": null,
   "id": "1aa68b58",
   "metadata": {},
   "outputs": [],
   "source": [
    "sqlQuicVersions = \"\"\"\n",
    "select \n",
    "    strftime('%Y-%W', created_at) WeekNumber,\n",
    "    q_version, count(*) as count\n",
    "from q_versions_cleaned\n",
    "group by WeekNumber, q_version\n",
    "order by count(*) desc;\n",
    "\"\"\"\n",
    "\n",
    "quic_versions = pd.read_sql_query(sqlQuicVersions, connection_q_versions_cleaned)\n",
    "\n",
    "quic_versions[\"version_name\"] = quic_versions.apply(toText, axis = 1)\n",
    "quic_versions_per_week_total = quic_versions.groupby([\"WeekNumber\"])[\"count\"].sum().reset_index(name = \"total\")\n",
    "quic_versions = pd.merge(quic_versions, quic_versions_per_week_total, on = \"WeekNumber\")\n",
    "quic_versions[\"percentage\"] = (quic_versions[\"count\"] / quic_versions[\"total\"]) * 100"
   ]
  },
  {
   "cell_type": "code",
   "execution_count": null,
   "id": "77ccca0c",
   "metadata": {},
   "outputs": [],
   "source": [
    "quic_versions_by_draft = quic_versions.pivot(index = \"WeekNumber\", columns = \"version_name\", values = \"count\")\n",
    "quic_versions_by_draft = quic_versions_by_draft.fillna(0)"
   ]
  },
  {
   "cell_type": "code",
   "execution_count": null,
   "id": "005b28e5",
   "metadata": {},
   "outputs": [],
   "source": [
    "fig = plt.figure(figsize = (10, 7))\n",
    "ax = fig.add_subplot(1,1,1)\n",
    "\n",
    "groups = [quic_versions_by_draft[group].tolist() for group in quic_versions_by_draft]\n",
    "\n",
    "labels = [i for i in range(27, len(quic_versions_by_draft.index) + 27)]\n",
    "\n",
    "plt.plot(labels, quic_versions_by_draft[\"1\"], color=\"tab:grey\", label=\"1\")\n",
    "plt.plot(labels, quic_versions_by_draft[\"Draft 29\"], color=\"tab:blue\", label=\"Draft 29\")\n",
    "plt.plot(labels, quic_versions_by_draft[\"Draft 32\"], color=\"tab:green\", label=\"Draft 32\",)\n",
    "plt.plot(labels, quic_versions_by_draft[\"Draft 34\"], color=\"tab:orange\", label=\"Draft 34\")\n",
    "\n",
    "plt.xlabel(\"Week Number\")\n",
    "plt.ylabel(\"% of Resolvers\")\n",
    "plt.xticks(labels)\n",
    "ax.set_axisbelow(True)\n",
    "plt.grid()\n",
    "plt.yticks([i for i in range(0, 1200, 100)])\n",
    "\n",
    "plt.legend()\n",
    "plt.show()"
   ]
  },
  {
   "cell_type": "markdown",
   "id": "1290ef8d",
   "metadata": {},
   "source": [
    "# ---------------------------------------------------------------------------------"
   ]
  },
  {
   "cell_type": "markdown",
   "id": "0835f324",
   "metadata": {},
   "source": [
    "## DoQ versions over Time"
   ]
  },
  {
   "cell_type": "code",
   "execution_count": null,
   "id": "0a89c887",
   "metadata": {},
   "outputs": [],
   "source": [
    "sqlQuicVersions = \"\"\"\n",
    "select \n",
    "    strftime('%Y-%W', created_at) WeekNumber,\n",
    "    draft_version, count(*) as count\n",
    "from q_versions_cleaned\n",
    "group by WeekNumber, draft_version;\n",
    "\"\"\"\n",
    "\n",
    "draft_versions = pd.read_sql_query(sqlQuicVersions, connection_q_versions_cleaned)\n",
    "\n",
    "draft_versions_per_week_total = draft_versions.groupby([\"WeekNumber\"])[\"count\"].sum().reset_index(name = \"total\")\n",
    "draft_versions = pd.merge(draft_versions, draft_versions_per_week_total, on = \"WeekNumber\")\n",
    "draft_versions[\"percentage\"] = (draft_versions[\"count\"] / draft_versions[\"total\"]) * 100"
   ]
  },
  {
   "cell_type": "code",
   "execution_count": null,
   "id": "f09c7381",
   "metadata": {},
   "outputs": [],
   "source": [
    "draft_versions_by_draft = draft_versions.pivot(index = \"WeekNumber\", columns = \"draft_version\", values = \"count\")"
   ]
  },
  {
   "cell_type": "code",
   "execution_count": null,
   "id": "bee9e08c",
   "metadata": {},
   "outputs": [],
   "source": [
    "fig = plt.figure(figsize = (10, 7))\n",
    "ax = fig.add_subplot(1,1,1)\n",
    "\n",
    "labels = [i for i in range(27, len(draft_versions_by_draft.index) + 27)]\n",
    "\n",
    "plt.plot(labels, draft_versions_by_draft[\"doq-i00\"], color=\"tab:blue\", label=\"Draft version 0\")\n",
    "plt.plot(labels, draft_versions_by_draft[\"doq-i02\"], color=\"tab:green\", label=\"Draft version 2\",)\n",
    "plt.plot(labels, draft_versions_by_draft[\"doq-i03\"], color=\"tab:gray\", label=\"Draft version 3\")\n",
    "\n",
    "plt.xlabel(\"Week Number\")\n",
    "plt.ylabel(\"% of Resolvers\")\n",
    "plt.xticks(labels)\n",
    "ax.set_axisbelow(True)\n",
    "plt.grid()\n",
    "plt.yticks([i for i in range(0, 1200, 100)])\n",
    "\n",
    "plt.legend()\n",
    "plt.show()"
   ]
  },
  {
   "cell_type": "markdown",
   "id": "dac37fd4",
   "metadata": {},
   "source": [
    "# ---------------------------------------------------------------------------------"
   ]
  },
  {
   "cell_type": "markdown",
   "id": "3923fb66",
   "metadata": {},
   "source": [
    "## DoQ + QUIC versions over Time"
   ]
  },
  {
   "cell_type": "code",
   "execution_count": null,
   "id": "27e49e3b",
   "metadata": {
    "scrolled": true
   },
   "outputs": [],
   "source": [
    "sqlQuicVersions = \"\"\"\n",
    "select \n",
    "    strftime('%Y-%W', created_at) WeekNumber,\n",
    "    q_version, draft_version as doq_version, ip\n",
    "from q_versions_cleaned;\n",
    "\"\"\"\n",
    "\n",
    "quic_doq_versions = pd.read_sql_query(sqlQuicVersions, connection_q_versions_cleaned)\n",
    "\n",
    "quic_doq_versions[\"q_version_name\"] = quic_doq_versions.apply(qVersionToText, axis = 1)\n",
    "quic_doq_versions[\"doq_version_name\"] = quic_doq_versions.apply(doqVersionToText, axis = 1)\n",
    "quic_doq_versions[\"doq_quic\"] = quic_doq_versions[\"doq_version_name\"] + \"/\" + quic_doq_versions[\"q_version_name\"]\n",
    "\n",
    "quic_doq_versions_pivot = qodQuicVersionPivot(quic_doq_versions)\n",
    "\n",
    "quic_doq_versions_pivot.columns = [x.replace('_', ' ') for x in quic_doq_versions_pivot.columns]"
   ]
  },
  {
   "cell_type": "code",
   "execution_count": null,
   "id": "4b3060e7",
   "metadata": {},
   "outputs": [],
   "source": [
    "quic_doq_versions_pivot"
   ]
  },
  {
   "cell_type": "code",
   "execution_count": null,
   "id": "abeb10fc",
   "metadata": {
    "scrolled": true
   },
   "outputs": [],
   "source": [
    "from cycler import cycler\n",
    "custom_cycler = (cycler(color=[\"#E69F00\", \"#56B4E9\", \"#0072B2\", \"#009E73\", \"#CC79A7\", \"#D55E00\", \"#F0E442\"]))  # colors from https://ranocha.de/blog/colors/\n",
    "\n",
    "tmp_df = quic_doq_versions_pivot.T\n",
    "\n",
    "tmp_df.columns=['27', '28', '29', '30', '31', '32', '33', '34', '35', '36', '37', '38', '39', '40', '41', '42', \n",
    "               '43', '44', '45', '46', '47', '48', '49', '50', '51', '52', '01', '02', '03']\n",
    "\n",
    "fig, ax = plt.subplots(figsize=(16,4))\n",
    "ax.set_prop_cycle(custom_cycler)\n",
    "\n",
    "patches = []\n",
    "bottoms = []\n",
    "\n",
    "for ind in tmp_df.index:\n",
    "    vals = tmp_df.loc[ind].to_list()\n",
    "    if bottoms:\n",
    "        p = ax.bar(tmp_df.columns, vals, label=ind,\n",
    "                   bottom=bottoms, width=0.7)\n",
    "    else:\n",
    "        p = ax.bar(tmp_df.columns, vals, label=ind, width=0.7)\n",
    "    \n",
    "    if bottoms:\n",
    "        bottoms = [b+v for b, v in zip(bottoms, vals)]\n",
    "    else:\n",
    "        bottoms = vals\n",
    "    patches.append(p)\n",
    "\n",
    "ax.set_xlabel('Week Number of 2021 / 2022')\n",
    "ax.set_ylabel('Number of DoQ-verified Resolvers')\n",
    "\n",
    "ax.set_yticks(np.arange(0,1250,100))\n",
    "\n",
    "handles, labels = ax.get_legend_handles_labels()\n",
    "#labels = [x.replace('/', ' / \\n') for x in labels]  # use newline in legend label to reduce clutter\n",
    "labels = [labels[0], labels[1], labels[3], labels[4], labels[5], labels[2], labels[6]]\n",
    "handles = [handles[0], handles[1], handles[3], handles[4], handles[5], handles[2], handles[6]]\n",
    "ax.legend(handles, labels)\n",
    "\n",
    "ax.legend(handles, labels, bbox_to_anchor=(0.01,1.17), loc='upper left', labelspacing = 0.8, ncol=4, columnspacing=2, frameon=False)\n",
    "\n",
    "\n",
    "ax.spines['right'].set_visible(False)\n",
    "ax.spines['top'].set_visible(False)\n",
    "\n",
    "\n",
    "# total values\n",
    "ax.bar_label(patches[-1], tmp_df.sum(axis=0).to_list(), fontweight='bold')\n",
    "\n",
    "# individual values\n",
    "for i in range(len(patches)):\n",
    "    # 'mute' 0 in labels\n",
    "    ax.bar_label(container=patches[i], labels=[x if x>=100 else '' for x in patches[i].datavalues],\n",
    "                 label_type='center', fontsize='small')\n",
    "\n",
    "ax.margins(0.01, 0)\n",
    "    \n",
    "plt.show()"
   ]
  },
  {
   "cell_type": "markdown",
   "id": "94c8ede5",
   "metadata": {},
   "source": [
    "# ---------------------------------------------------------------------------------"
   ]
  },
  {
   "cell_type": "markdown",
   "id": "6ee4bf21",
   "metadata": {},
   "source": [
    "## Number of Doq verified targets"
   ]
  },
  {
   "cell_type": "markdown",
   "id": "f0a1cfac",
   "metadata": {},
   "source": [
    "### Unique over all weeks"
   ]
  },
  {
   "cell_type": "code",
   "execution_count": null,
   "id": "6fd46bec",
   "metadata": {},
   "outputs": [],
   "source": [
    "sqlVerifiedTargets = \"\"\"\n",
    "select week_number, ip from q_versions_cleaned;\n",
    "\"\"\"\n",
    "\n",
    "verified_targets = pd.read_sql_query(sqlVerifiedTargets, connection_q_versions_cleaned)\n",
    "\n",
    "verified_targets['ip'].unique().size"
   ]
  },
  {
   "cell_type": "markdown",
   "id": "7d492634",
   "metadata": {},
   "source": [
    "### Verified in first/last week"
   ]
  },
  {
   "cell_type": "code",
   "execution_count": null,
   "id": "7582e07c",
   "metadata": {
    "scrolled": false
   },
   "outputs": [],
   "source": [
    "verified_targets_first_week = verified_targets[verified_targets['week_number'] == '27']['ip']\n",
    "print('27: ' + str(len(verified_targets_first_week)))\n",
    "verified_targets_last_week = verified_targets[verified_targets['week_number'] == '03']['ip']\n",
    "print('03: ' + str(len(verified_targets_last_week)))\n",
    "print('increase 27 to 03: ' + str(len(verified_targets_last_week) / len(verified_targets_first_week)))\n",
    "print('still verified in 03: ' + str(len(set(verified_targets_first_week).intersection(set(verified_targets_last_week)))))\n",
    "print('still verified in 03 rel: ' + str(len(set(verified_targets_first_week).intersection(set(verified_targets_last_week))) / len(verified_targets_first_week)))\n"
   ]
  },
  {
   "cell_type": "markdown",
   "id": "c7d5b966",
   "metadata": {},
   "source": [
    "# ---------------------------------------------------------------------------------"
   ]
  },
  {
   "cell_type": "markdown",
   "id": "e927bc39",
   "metadata": {},
   "source": [
    "## DoUDP"
   ]
  },
  {
   "cell_type": "code",
   "execution_count": null,
   "id": "44f89c48",
   "metadata": {},
   "outputs": [],
   "source": [
    "# first week\n",
    "doudp_ips_first_week = pd.read_csv('adoption/05-07-2021-53.csv')\n",
    "len(doudp_ips_first_week)"
   ]
  },
  {
   "cell_type": "code",
   "execution_count": null,
   "id": "984464fe",
   "metadata": {
    "scrolled": true
   },
   "outputs": [],
   "source": [
    "# last week\n",
    "doudp_ips_last_week = pd.read_csv('adoption/17-01-2022-53.csv')\n",
    "len(doudp_ips_last_week)"
   ]
  },
  {
   "cell_type": "code",
   "execution_count": null,
   "id": "aa30cc8e",
   "metadata": {},
   "outputs": [],
   "source": [
    "# Still online in the last week\n",
    "doudp_ips_still_verified_last_week = set(doudp_ips_first_week[doudp_ips_first_week.columns[0]]).intersection(doudp_ips_last_week[doudp_ips_last_week.columns[0]])"
   ]
  },
  {
   "cell_type": "code",
   "execution_count": null,
   "id": "87030238",
   "metadata": {},
   "outputs": [],
   "source": [
    "len(doudp_ips_still_verified_last_week) / len(doudp_ips_first_week)"
   ]
  },
  {
   "cell_type": "markdown",
   "id": "ec4b73db",
   "metadata": {},
   "source": [
    "# ---------------------------------------------------------------------------------"
   ]
  },
  {
   "cell_type": "markdown",
   "id": "8359ac9b",
   "metadata": {},
   "source": [
    "## Common Names"
   ]
  },
  {
   "cell_type": "markdown",
   "id": "5d152f2b",
   "metadata": {},
   "source": [
    "### Unique over all weeks"
   ]
  },
  {
   "cell_type": "code",
   "execution_count": null,
   "id": "9606528a",
   "metadata": {
    "scrolled": true
   },
   "outputs": [],
   "source": [
    "certs = pd.read_csv(\"./misc/certs-complete.csv\", converters={\"info\":json.loads}, header = None, names = [\"ip\", \"protocol\", \"port\", \"info\"])\n",
    "quic_certs_complete = certs[certs[\"protocol\"] == \"quic\"]\n",
    "quic_certs_complete[\"common_name\"] = quic_certs_complete[\"info\"].apply(mapToCommonName)\n",
    "\n",
    "quic_certs_complete['common_name'].unique().size\n"
   ]
  },
  {
   "cell_type": "markdown",
   "id": "52151b01",
   "metadata": {},
   "source": [
    "### Last week"
   ]
  },
  {
   "cell_type": "code",
   "execution_count": null,
   "id": "d3a871bd",
   "metadata": {},
   "outputs": [],
   "source": [
    "certs = pd.read_csv(\"./misc/certs-last.csv\", converters={\"info\":json.loads}, header = None, names = [\"ip\", \"protocol\", \"port\", \"info\"])\n",
    "quic_certs_last = certs[certs[\"protocol\"] == \"quic\"]\n",
    "quic_certs_last[\"common_name\"] = quic_certs_last[\"info\"].apply(mapToCommonName)"
   ]
  },
  {
   "cell_type": "code",
   "execution_count": null,
   "id": "ac8cc58f",
   "metadata": {},
   "outputs": [],
   "source": [
    "quic_certs_last = quic_certs_last.drop_duplicates(subset = ['ip', 'common_name'])"
   ]
  },
  {
   "cell_type": "code",
   "execution_count": null,
   "id": "83427216",
   "metadata": {
    "scrolled": true
   },
   "outputs": [],
   "source": [
    "count_by_common_name = quic_certs_last.groupby(\"common_name\").size().reset_index(name = \"count\").set_index(\"common_name\")\n",
    "count_by_common_name[\"rel\"] = (count_by_common_name[\"count\"] / count_by_common_name[\"count\"].sum()) * 100\n",
    "count_by_common_name.nlargest(10, \"count\")"
   ]
  },
  {
   "cell_type": "markdown",
   "id": "2a312c2a",
   "metadata": {},
   "source": [
    "### Matching 'adguard'"
   ]
  },
  {
   "cell_type": "code",
   "execution_count": null,
   "id": "f56f92fd",
   "metadata": {},
   "outputs": [],
   "source": [
    "quic_certs_last_adguard = certs[certs[\"protocol\"] == \"quic\"]\n",
    "quic_certs_last_adguard[\"common_name\"] = quic_certs_last_adguard[\"info\"].apply(mapToCommonName)\n",
    "quic_certs_last_adguard = quic_certs_last_adguard.drop_duplicates(subset = ['ip', 'common_name'])\n",
    "quic_certs_last_adguard = quic_certs_last_adguard[['common_name']]\n",
    "\n",
    "quic_certs_last_adguard = quic_certs_last_adguard[quic_certs_last_adguard['common_name'].str.contains('adguard', case=False, regex=False, na=False)]\n",
    "quic_certs_last_adguard = quic_certs_last_adguard.drop_duplicates(subset = ['common_name'])\n",
    "quic_certs_last_adguard = quic_certs_last_adguard.drop(quic_certs_last_adguard[(quic_certs_last_adguard['common_name'] == 'dns.adguard.com') | (quic_certs_last_adguard['common_name'] == '*.d.adguard-dns.com') | (quic_certs_last_adguard['common_name'] == 'adguard.ch')].index)\n",
    "print(len(quic_certs_last_adguard))\n",
    "quic_certs_last_adguard"
   ]
  },
  {
   "cell_type": "markdown",
   "id": "49d934dd",
   "metadata": {},
   "source": [
    "## nextdns.io over time"
   ]
  },
  {
   "cell_type": "code",
   "execution_count": null,
   "id": "b78fb6ea",
   "metadata": {},
   "outputs": [],
   "source": [
    "quic_certs_nextdns = quic_certs_complete[quic_certs_complete['common_name'] == 'dns.nextdns.io']"
   ]
  },
  {
   "cell_type": "code",
   "execution_count": null,
   "id": "5ce81ba0",
   "metadata": {},
   "outputs": [],
   "source": [
    "nextdns_ips = quic_certs_nextdns['ip']"
   ]
  },
  {
   "cell_type": "code",
   "execution_count": null,
   "id": "5067306a",
   "metadata": {},
   "outputs": [],
   "source": [
    "quic_doq_versions_nextdns = quic_doq_versions[quic_doq_versions['ip'].isin(nextdns_ips)]"
   ]
  },
  {
   "cell_type": "code",
   "execution_count": null,
   "id": "009942a4",
   "metadata": {
    "scrolled": false
   },
   "outputs": [],
   "source": [
    "quic_doq_versions_pivot_nextdns = qodQuicVersionPivot(quic_doq_versions_nextdns)\n",
    "quic_doq_versions_pivot_nextdns"
   ]
  },
  {
   "cell_type": "code",
   "execution_count": null,
   "id": "1b31ce51",
   "metadata": {
    "scrolled": true
   },
   "outputs": [],
   "source": [
    "# resolver still with DoQ02/QUIC32 in Weeks 33 and 34\n",
    "quic_doq_versions_nextdns[((quic_doq_versions_nextdns['WeekNumber'] == '2021-33') | (quic_doq_versions_nextdns['WeekNumber'] == '2021-34')) & (quic_doq_versions_nextdns['q_version_name'] == 'QUIC_Draft_32')]\n"
   ]
  },
  {
   "cell_type": "code",
   "execution_count": null,
   "id": "4155fa5f",
   "metadata": {},
   "outputs": [],
   "source": [
    "# resolver still with DoQ02/QUIC32 in Weeks 33 and 34 changed to DoQ02/QUIC29 in week 35\n",
    "quic_doq_versions_nextdns_doq02_quic32_weeks_33_34_ip = quic_doq_versions_nextdns[((quic_doq_versions_nextdns['WeekNumber'] == '2021-33') | (quic_doq_versions_nextdns['WeekNumber'] == '2021-34')) & (quic_doq_versions_nextdns['q_version_name'] == 'QUIC_Draft_32')]['ip'][0:1]\n",
    "quic_doq_versions_nextdns[quic_doq_versions_nextdns['ip'].isin(quic_doq_versions_nextdns_doq02_quic32_weeks_33_34_ip)]\n"
   ]
  },
  {
   "cell_type": "code",
   "execution_count": null,
   "id": "ca5cda98",
   "metadata": {},
   "outputs": [],
   "source": [
    "# mean resolvers in weeks 27-31\n",
    "(quic_doq_versions_pivot_nextdns[0:5][\"DoQ_Draft_02/QUIC_Draft_29\"].sum() + quic_doq_versions_pivot_nextdns[0:5][\"DoQ_Draft_02/QUIC_Draft_32\"].sum()) / 5\n"
   ]
  },
  {
   "cell_type": "code",
   "execution_count": null,
   "id": "30fc3479",
   "metadata": {},
   "outputs": [],
   "source": [
    "# mean resolvers in weeks 32-03\n",
    "(quic_doq_versions_pivot_nextdns[5:][\"DoQ_Draft_02/QUIC_Draft_29\"].sum() + quic_doq_versions_pivot_nextdns[5:][\"DoQ_Draft_02/QUIC_Draft_32\"].sum() + quic_doq_versions_pivot_nextdns[5:][\"DoQ_Draft_02/QUIC_1\"].sum()) / 24\n"
   ]
  },
  {
   "cell_type": "code",
   "execution_count": null,
   "id": "6439271a",
   "metadata": {},
   "outputs": [],
   "source": [
    "## DoQ02/QUIC29 is only offered by nextdns\n",
    "quic_doq_versions_doq02_quic_29 = quic_doq_versions[quic_doq_versions['doq_quic'] == 'DoQ_Draft_02/QUIC_Draft_29']\n",
    "quic_doq_versions_doq02_quic_29[~quic_doq_versions['ip'].isin(nextdns_ips)]"
   ]
  },
  {
   "cell_type": "markdown",
   "id": "1036993b",
   "metadata": {},
   "source": [
    "## AdGuard over time"
   ]
  },
  {
   "cell_type": "code",
   "execution_count": null,
   "id": "6742350e",
   "metadata": {},
   "outputs": [],
   "source": [
    "quic_certs_complete['common_name']"
   ]
  },
  {
   "cell_type": "code",
   "execution_count": null,
   "id": "19f8fcfb",
   "metadata": {},
   "outputs": [],
   "source": [
    "quic_certs_adguard = quic_certs_complete[(quic_certs_complete['common_name'] == 'dns.adguard.com') | (quic_certs_complete['common_name'] == '*.d.adguard-dns.com') | (quic_certs_complete['common_name'] == 'adguard.ch')]\n",
    "\n",
    "print(quic_certs_adguard[quic_certs_adguard['common_name'] == 'dns.adguard.com']['info'].iloc[1])\n",
    "print(quic_certs_adguard[quic_certs_adguard['common_name'] == '*.d.adguard-dns.com']['info'].iloc[1])\n",
    "print(quic_certs_adguard[quic_certs_adguard['common_name'] == 'adguard.ch']['info'].iloc[1])\n",
    "\n"
   ]
  },
  {
   "cell_type": "code",
   "execution_count": null,
   "id": "e7e08614",
   "metadata": {},
   "outputs": [],
   "source": [
    "quic_certs_adguard = quic_certs_adguard.drop_duplicates('ip')"
   ]
  },
  {
   "cell_type": "code",
   "execution_count": null,
   "id": "7ea7842a",
   "metadata": {},
   "outputs": [],
   "source": [
    "adguard_ips = quic_certs_adguard['ip']"
   ]
  },
  {
   "cell_type": "code",
   "execution_count": null,
   "id": "d46e4a6a",
   "metadata": {},
   "outputs": [],
   "source": [
    "quic_doq_versions_adguard = quic_doq_versions[quic_doq_versions['ip'].isin(adguard_ips)]"
   ]
  },
  {
   "cell_type": "code",
   "execution_count": null,
   "id": "bafa1b34",
   "metadata": {},
   "outputs": [],
   "source": [
    "quic_doq_versions_certs_adguard = pd.merge(quic_doq_versions_adguard, quic_certs_adguard, left_on='ip', right_on='ip', how='left')\n",
    "quic_doq_versions_certs_adguard_grouped = quic_doq_versions_certs_adguard.groupby(['WeekNumber', 'common_name'])['ip'].size().reset_index(name = \"total_per_week\")\n",
    "quic_doq_versions_certs_adguard_grouped_pivot = quic_doq_versions_certs_adguard_grouped.pivot(index = \"WeekNumber\", columns = \"common_name\", values = \"total_per_week\")\n",
    "quic_doq_versions_certs_adguard_grouped_pivot = quic_doq_versions_certs_adguard_grouped_pivot.astype(pd.Int64Dtype())\n",
    "quic_doq_versions_certs_adguard_grouped_pivot = quic_doq_versions_certs_adguard_grouped_pivot.fillna(0)\n",
    "quic_doq_versions_certs_adguard_grouped_pivot\n"
   ]
  },
  {
   "cell_type": "code",
   "execution_count": null,
   "id": "6c50f5dc",
   "metadata": {},
   "outputs": [],
   "source": [
    "quic_doq_versions_pivot_adguard = qodQuicVersionPivot(quic_doq_versions_adguard)\n",
    "quic_doq_versions_pivot_adguard"
   ]
  },
  {
   "cell_type": "markdown",
   "id": "1607cb0d",
   "metadata": {},
   "source": [
    "# ---------------------------------------------------------------------------------"
   ]
  },
  {
   "cell_type": "markdown",
   "id": "9ff8e4fe",
   "metadata": {},
   "source": [
    "# Regional Distribution last week"
   ]
  },
  {
   "cell_type": "code",
   "execution_count": null,
   "id": "98910054",
   "metadata": {},
   "outputs": [],
   "source": [
    "# get regional data from ip addresses\n",
    "data = {}\n",
    "try:\n",
    "    df = pd.read_csv(\"adoption-ip-location.csv\")\n",
    "    for index, row in df.iterrows():\n",
    "        data[row[\"ip\"]] = row\n",
    "except:\n",
    "    pass\n",
    "for row in verified_targets_last_week:\n",
    "    #print(row)\n",
    "    r = requests.get(\"http://ip-api.com/json/\" + row)\n",
    "    json = r.json()\n",
    "    data[row] = {\n",
    "        \"country\": json[\"country\"],\n",
    "        \"countryCode\": json[\"countryCode\"],\n",
    "        \"region\": json[\"region\"],\n",
    "        \"regionName\": json[\"regionName\"],\n",
    "        \"city\": json[\"city\"],\n",
    "        \"zip\": json[\"zip\"],\n",
    "        \"lat\": json[\"lat\"],\n",
    "        \"lon\": json[\"lon\"],\n",
    "        \"org\": json[\"org\"],\n",
    "        \"as\": json[\"as\"],\n",
    "        \"ip\": row\n",
    "    }\n",
    "    time.sleep(1.5)\n",
    "df_all_doq = pd.DataFrame.from_dict(data, orient = \"index\")\n",
    "df_all_doq.to_csv(\"adoption-ip-location.csv\", index = False)"
   ]
  },
  {
   "cell_type": "code",
   "execution_count": null,
   "id": "63b63abd",
   "metadata": {},
   "outputs": [],
   "source": [
    "df_all_doq"
   ]
  },
  {
   "cell_type": "markdown",
   "id": "880f450d",
   "metadata": {},
   "source": [
    "## By Continent"
   ]
  },
  {
   "cell_type": "code",
   "execution_count": null,
   "id": "6d0ddda8",
   "metadata": {
    "scrolled": false
   },
   "outputs": [],
   "source": [
    "countriesContinents = pd.read_csv(\"Countries-Continents.csv\", index_col = False)\n",
    "renamed = countriesContinents.columns.tolist()\n",
    "renamed[0] = \"country\"\n",
    "countriesContinents.columns = renamed\n",
    "\n",
    "def mapToContinent(row):\n",
    "    if row[\"region\"] == \"Americas\" and row[\"intermediate-region\"] == \"South America\":\n",
    "        return \"South America (SA)\"\n",
    "    elif row[\"region\"] == \"Americas\":\n",
    "        return \"North America (NA)\"\n",
    "    elif row[\"region\"] == \"Asia\":\n",
    "        return \"Asia (AS)\"\n",
    "    elif row[\"region\"] == \"Europe\":\n",
    "        return \"Europe (EU)\"\n",
    "    elif row[\"region\"] == \"Oceania\":\n",
    "        return \"Oceania (OC)\"\n",
    "    elif row[\"region\"] == \"Africa\":\n",
    "        return \"Africa (AF)\"\n",
    "    return row[\"region\"]\n",
    "\n",
    "countriesContinents[\"continent\"] = countriesContinents.apply(mapToContinent, axis = 1)"
   ]
  },
  {
   "cell_type": "code",
   "execution_count": null,
   "id": "d4df883d",
   "metadata": {
    "scrolled": true
   },
   "outputs": [],
   "source": [
    "df_all_doq_with_continent = pd.merge(df_all_doq, countriesContinents, on = \"country\")\n",
    "df_all_doq_with_continent['continent'].value_counts()"
   ]
  },
  {
   "cell_type": "code",
   "execution_count": null,
   "id": "b05ed17d",
   "metadata": {},
   "outputs": [],
   "source": [
    "target_dist_by_continent = pd.concat([df_all_doq_with_continent['continent'].value_counts(),\n",
    "                                     df_all_doq_with_continent['continent'].value_counts(normalize=True)], axis=1)\n",
    "target_dist_by_continent = target_dist_by_continent.reset_index() \n",
    "target_dist_by_continent.columns = ['Continent', 'abs', 'rel']\n",
    "target_dist_by_continent['rel'] = target_dist_by_continent['rel'].map(\" ({:.2%})\".format)\n",
    "target_dist_by_continent['DoQ verified'] = target_dist_by_continent['abs'].astype(str) + target_dist_by_continent['rel']\n",
    "target_dist_by_continent = target_dist_by_continent[['Continent', 'DoQ verified']]\n",
    "print(target_dist_by_continent.to_latex(index=False))"
   ]
  },
  {
   "cell_type": "code",
   "execution_count": null,
   "id": "065c1cab",
   "metadata": {},
   "outputs": [],
   "source": [
    "# 0 resolvers are missing continent information\n",
    "len(df_all_doq) - df_all_doq_with_continent['continent'].value_counts().sum()"
   ]
  },
  {
   "cell_type": "markdown",
   "id": "32132409",
   "metadata": {},
   "source": [
    "## By ASN"
   ]
  },
  {
   "cell_type": "code",
   "execution_count": null,
   "id": "f83c3ee9",
   "metadata": {
    "scrolled": true
   },
   "outputs": [],
   "source": [
    "def lookupASName(asn):\n",
    "    r = requests.get(\"http://api.asrank.caida.org/v2/restful/asns/\" + str(asn))\n",
    "    json = r.json()\n",
    "    return json[\"data\"][\"asn\"][\"asnName\"]\n",
    "\n",
    "top_n = 10\n",
    "\n",
    "target_dist_by_asn = pd.concat([df_all_doq_with_continent['as'].value_counts().head(top_n),\n",
    "                                     df_all_doq_with_continent['as'].value_counts(normalize=True).head(top_n)], axis=1)\n",
    "target_dist_by_asn = target_dist_by_asn.reset_index() \n",
    "target_dist_by_asn.columns = ['ASN', 'abs', 'rel']\n",
    "target_dist_by_asn['rel'] = target_dist_by_asn['rel'].map(\" ({:.2%})\".format)\n",
    "target_dist_by_asn_table = target_dist_by_asn\n",
    "target_dist_by_asn_table['DoQ verified'] = target_dist_by_asn['abs'].astype(str) + target_dist_by_asn['rel']\n",
    "\n",
    "target_dist_by_asn_table['ASN'] = target_dist_by_asn_table['ASN'].str.split(' ', expand=True)[0]\n",
    "target_dist_by_asn_table['ASN'] = target_dist_by_asn_table['ASN'].str.slice(2)\n",
    "\n",
    "target_dist_by_asn_table['AS'] = target_dist_by_asn_table.apply(lambda row : lookupASName(row['ASN']), axis=1)\n",
    "\n",
    "target_dist_asn_list = target_dist_by_asn_table[['ASN']]\n"
   ]
  },
  {
   "cell_type": "code",
   "execution_count": null,
   "id": "d90576e2",
   "metadata": {
    "scrolled": true
   },
   "outputs": [],
   "source": [
    "target_dist_by_asn_table['ASN'] = target_dist_by_asn_table['AS'] + ' (AS' + target_dist_by_asn_table['ASN'].astype(str) + ')'\n",
    "\n",
    "target_dist_by_asn_table = target_dist_by_asn_table[['ASN', 'DoQ verified']]\n",
    "\n",
    "print(target_dist_by_asn_table.to_latex(index=False))"
   ]
  },
  {
   "cell_type": "code",
   "execution_count": null,
   "id": "edf22f06",
   "metadata": {},
   "outputs": [],
   "source": [
    "# calculate \"other\"\n",
    "print((len(df_all_doq) - target_dist_by_asn['abs'].sum()) / len(df_all_doq))\n",
    "print(len(df_all_doq) - target_dist_by_asn['abs'].sum())"
   ]
  },
  {
   "cell_type": "markdown",
   "id": "8bf06279",
   "metadata": {},
   "source": [
    "## Continental distribution of top 10 ASN"
   ]
  },
  {
   "cell_type": "code",
   "execution_count": null,
   "id": "6e69f64b",
   "metadata": {},
   "outputs": [],
   "source": [
    "as_df_all_doq_with_continent = df_all_doq_with_continent[['as', 'continent']]\n",
    "as_df_all_doq_with_continent['as_number'] = as_df_all_doq_with_continent['as'].str.split(' ', expand=True)[0]\n",
    "as_df_all_doq_with_continent['as_number'] = as_df_all_doq_with_continent['as_number'].str.slice(2)\n",
    "\n",
    "top_10_as_df_all_doq_with_continent = as_df_all_doq_with_continent[as_df_all_doq_with_continent['as_number'].isin(target_dist_asn_list['ASN'])]\n",
    "top_10_as_df_all_doq_with_continent = pd.concat([top_10_as_df_all_doq_with_continent['continent'].value_counts(),\n",
    "                                     top_10_as_df_all_doq_with_continent['continent'].value_counts(normalize=True)], axis=1)\n",
    "top_10_as_df_all_doq_with_continent = top_10_as_df_all_doq_with_continent.reset_index() \n",
    "top_10_as_df_all_doq_with_continent.columns = ['Continent', 'abs', 'rel']\n",
    "top_10_as_df_all_doq_with_continent['rel'] = top_10_as_df_all_doq_with_continent['rel'].map(\" {:.2%}\".format)\n",
    "top_10_as_df_all_doq_with_continent\n"
   ]
  },
  {
   "cell_type": "markdown",
   "id": "03873e4a",
   "metadata": {},
   "source": [
    "## Continental and ASN distribution of AdGuard and NextDNS"
   ]
  },
  {
   "cell_type": "code",
   "execution_count": null,
   "id": "cf8eb3d8",
   "metadata": {},
   "outputs": [],
   "source": [
    "ip_df_all_doq_with_continent = df_all_doq_with_continent[['as', 'continent', 'ip', 'country']]\n",
    "ip_df_all_doq_with_continent['as_number'] = ip_df_all_doq_with_continent['as'].str.split(' ', expand=True)[0]\n",
    "ip_df_all_doq_with_continent['as_number'] = ip_df_all_doq_with_continent['as_number'].str.slice(2)\n",
    "ip_df_all_doq_with_continent"
   ]
  },
  {
   "cell_type": "markdown",
   "id": "a45e480f",
   "metadata": {},
   "source": [
    "### AdGuard"
   ]
  },
  {
   "cell_type": "code",
   "execution_count": null,
   "id": "c3e12c96",
   "metadata": {},
   "outputs": [],
   "source": [
    "quic_doq_versions_adguard_last_week = quic_doq_versions_adguard[quic_doq_versions_adguard['WeekNumber'] == '2022-03']\n",
    "adguard_last_week_df_all_doq_with_continent = ip_df_all_doq_with_continent[ip_df_all_doq_with_continent['ip'].isin(quic_doq_versions_adguard_last_week['ip'])]\n",
    "adguard_last_week_df_all_doq_with_continent['asn'] = adguard_last_week_df_all_doq_with_continent.apply(lambda row : lookupASName(row['as_number']), axis=1)"
   ]
  },
  {
   "cell_type": "code",
   "execution_count": null,
   "id": "3beec5e8",
   "metadata": {},
   "outputs": [],
   "source": [
    "adguard_last_week_df_all_doq_with_continent_grouped = adguard_last_week_df_all_doq_with_continent.groupby(['as', 'asn', 'continent', 'country']).size().reset_index(name = 'count')\n",
    "adguard_last_week_df_all_doq_with_continent_grouped\n"
   ]
  },
  {
   "cell_type": "markdown",
   "id": "c7438bc6",
   "metadata": {},
   "source": [
    "### NextDNS"
   ]
  },
  {
   "cell_type": "code",
   "execution_count": null,
   "id": "39f6fe82",
   "metadata": {},
   "outputs": [],
   "source": [
    "quic_doq_versions_nextdns_last_week = quic_doq_versions_nextdns[quic_doq_versions_nextdns['WeekNumber'] == '2022-03']\n",
    "nextdns_last_week_df_all_doq_with_continent = ip_df_all_doq_with_continent[ip_df_all_doq_with_continent['ip'].isin(quic_doq_versions_nextdns_last_week['ip'])]"
   ]
  },
  {
   "cell_type": "code",
   "execution_count": null,
   "id": "8a07f978",
   "metadata": {},
   "outputs": [],
   "source": [
    "nextdns_last_week_df_all_doq_with_continent_grouped = nextdns_last_week_df_all_doq_with_continent.groupby(['as', 'continent', 'country']).size().reset_index(name = 'count')\n",
    "nextdns_last_week_df_all_doq_with_continent_grouped"
   ]
  },
  {
   "cell_type": "code",
   "execution_count": null,
   "id": "4293aee4",
   "metadata": {},
   "outputs": [],
   "source": [
    "# 0 resolver is missing continent information\n",
    "count_by_common_name[count_by_common_name.index == 'dns.nextdns.io']['count'] - nextdns_last_week_df_all_doq_with_continent['continent'].value_counts().sum()"
   ]
  },
  {
   "cell_type": "code",
   "execution_count": null,
   "id": "0df59823",
   "metadata": {},
   "outputs": [],
   "source": [
    "nextdns_last_week_df_all_doq_with_continent['as'].value_counts()\n",
    "\n",
    "nextdns_last_week_df_all_doq_with_continent_as = pd.concat([nextdns_last_week_df_all_doq_with_continent['as'].value_counts(),\n",
    "                                     nextdns_last_week_df_all_doq_with_continent['as'].value_counts(normalize=True)], axis=1)\n",
    "nextdns_last_week_df_all_doq_with_continent_as = nextdns_last_week_df_all_doq_with_continent_as.reset_index() \n",
    "nextdns_last_week_df_all_doq_with_continent_as.columns = ['as', 'abs', 'rel']\n",
    "nextdns_last_week_df_all_doq_with_continent_as['rel'] = nextdns_last_week_df_all_doq_with_continent_as['rel'].map(\" {:.2%}\".format)\n",
    "nextdns_last_week_df_all_doq_with_continent_as\n"
   ]
  },
  {
   "cell_type": "code",
   "execution_count": null,
   "id": "f10c2696",
   "metadata": {},
   "outputs": [],
   "source": [
    "nextdns_last_week_df_all_doq_with_continent_continent = pd.concat([nextdns_last_week_df_all_doq_with_continent['continent'].value_counts(),\n",
    "                                     nextdns_last_week_df_all_doq_with_continent['continent'].value_counts(normalize=True)], axis=1)\n",
    "nextdns_last_week_df_all_doq_with_continent_continent = nextdns_last_week_df_all_doq_with_continent_continent.reset_index() \n",
    "nextdns_last_week_df_all_doq_with_continent_continent.columns = ['Continent', 'abs', 'rel']\n",
    "nextdns_last_week_df_all_doq_with_continent_continent['rel'] = nextdns_last_week_df_all_doq_with_continent_continent['rel'].map(\" {:.2%}\".format)\n",
    "nextdns_last_week_df_all_doq_with_continent_continent"
   ]
  },
  {
   "cell_type": "code",
   "execution_count": null,
   "id": "6bc399d3",
   "metadata": {},
   "outputs": [],
   "source": [
    "nextdns_last_week_df_all_doq_with_continent['country'].value_counts()"
   ]
  },
  {
   "cell_type": "code",
   "execution_count": null,
   "id": "7dc5227d",
   "metadata": {
    "scrolled": true
   },
   "outputs": [],
   "source": [
    "df_all_doq_with_continent"
   ]
  },
  {
   "cell_type": "code",
   "execution_count": null,
   "id": "6b4abeb1",
   "metadata": {},
   "outputs": [],
   "source": [
    "plt.figure(figsize=(12,4))\n",
    "worldMap = Basemap(lon_0=0, resolution='l')\n",
    "worldMap.drawcountries(color='#ffffff', linewidth=0.5)\n",
    "worldMap.fillcontinents(color='#c0c0c0', lake_color='#ffffff')\n",
    "x, y = worldMap(df_all_doq_with_continent[\"lon\"].tolist(), df_all_doq_with_continent[\"lat\"].tolist())\n",
    "homeX, homeY = worldMap([11.66864063068705], [48.26187023547006])\n",
    "plt.plot(x, y, 'ro', markersize = 3)\n",
    "plt.plot(homeX, homeY, 'bo', markersize = 4)\n",
    "\n",
    "conts_joined = 'Asia: 550 (45.19%)\\nEU: 394 (32.37%)\\nNA: 217 (17.83%)\\nOC: 30 (2.47%)\\nSA: 18 (1.48%)\\nAF: 8 (0.66%)'\n",
    "plt.annotate(conts_joined, xy=(99.8, 40), xycoords='axes points',\n",
    "            size=10, ha='right', va='bottom',\n",
    "            bbox=dict(fc='w', lw='0.8'))\n",
    "plt.box(False)\n",
    "plt.show()\n"
   ]
  },
  {
   "cell_type": "markdown",
   "id": "d20e0f67",
   "metadata": {},
   "source": [
    "# ---------------------------------------------------------------------------------"
   ]
  },
  {
   "cell_type": "markdown",
   "id": "61ad87e7",
   "metadata": {},
   "source": [
    "# Check verified resolvers against public resolver ip list"
   ]
  },
  {
   "cell_type": "code",
   "execution_count": null,
   "id": "63775f6f",
   "metadata": {},
   "outputs": [],
   "source": [
    "public_resolver_ipv4s = pd.read_csv('public-resolvers-ipv4s.csv', names = ['ip'])"
   ]
  },
  {
   "cell_type": "code",
   "execution_count": null,
   "id": "70a76d87",
   "metadata": {},
   "outputs": [],
   "source": [
    "# no match\n",
    "\n",
    "df_all_doq[df_all_doq['ip'].isin(public_resolver_ipv4s['ip'])]"
   ]
  },
  {
   "cell_type": "markdown",
   "id": "659b8d3f",
   "metadata": {},
   "source": [
    "# ---------------------------------------------------------------------------------"
   ]
  },
  {
   "cell_type": "markdown",
   "id": "322c0453",
   "metadata": {},
   "source": [
    "# Weekly port distribution"
   ]
  },
  {
   "cell_type": "code",
   "execution_count": null,
   "id": "545bb448",
   "metadata": {},
   "outputs": [],
   "source": [
    "sqlQuicPorts = \"\"\"\n",
    "select \n",
    "    strftime('%Y-%W', created_at) WeekNumber,\n",
    "    draft_version as doq_version, ip, port\n",
    "from q_versions_cleaned;\n",
    "\"\"\"\n",
    "\n",
    "quic_ports = pd.read_sql_query(sqlQuicPorts, connection_q_versions_cleaned)\n",
    "quic_ports['port'] = quic_ports['port'].apply(str)\n",
    "quic_ports[\"doq_ports\"] = quic_ports[\"doq_version\"] + \"/\" + quic_ports[\"port\"]\n",
    "\n",
    "quic_ports_grouped = quic_ports.groupby(['WeekNumber', 'doq_ports'])['ip'].size().reset_index(name = \"total_per_week\")\n",
    "quic_ports_grouped\n",
    "quic_ports_grouped_pivot = quic_ports_grouped.pivot(index = \"WeekNumber\", columns = \"doq_ports\", values = \"total_per_week\")\n",
    "quic_ports_grouped_pivot = quic_ports_grouped_pivot.astype(pd.Int64Dtype())\n",
    "quic_ports_grouped_pivot = quic_ports_grouped_pivot.fillna(0)\n",
    "quic_ports_grouped_pivot\n",
    "\n",
    "quic_ports_grouped_pivot"
   ]
  },
  {
   "cell_type": "code",
   "execution_count": null,
   "id": "fbd079a6",
   "metadata": {},
   "outputs": [],
   "source": [
    "quic_ports_grouped_pivot['784'] = quic_ports_grouped_pivot['doq-i00/784'] + quic_ports_grouped_pivot['doq-i02/784'] + quic_ports_grouped_pivot['doq-i03/784']"
   ]
  },
  {
   "cell_type": "code",
   "execution_count": null,
   "id": "801b6f49",
   "metadata": {},
   "outputs": [],
   "source": [
    "quic_ports_grouped_pivot = quic_ports_grouped_pivot[['doq-i02/853', 'doq-i02/8853', '784']]\n",
    "quic_ports_grouped_pivot['853'] = quic_ports_grouped_pivot['doq-i02/853'];\n",
    "quic_ports_grouped_pivot['8853'] = quic_ports_grouped_pivot['doq-i02/8853']\n",
    "\n",
    "quic_ports_grouped_pivot = quic_ports_grouped_pivot.drop(['doq-i02/853', 'doq-i02/8853'],axis=1)\n",
    "\n",
    "quic_ports_grouped_pivot['sum'] = quic_ports_grouped_pivot.sum(axis=1)\n",
    "quic_ports_grouped_pivot['853 rel'] = (quic_ports_grouped_pivot['853'] / quic_ports_grouped_pivot['sum']).map(\" {:.2%}\".format)\n",
    "quic_ports_grouped_pivot['8853 rel'] = (quic_ports_grouped_pivot['8853'] / quic_ports_grouped_pivot['sum']).map(\" {:.2%}\".format)\n",
    "quic_ports_grouped_pivot['784 rel'] = (quic_ports_grouped_pivot['784'] / quic_ports_grouped_pivot['sum']).map(\" {:.2%}\".format)\n",
    "\n",
    "quic_ports_grouped_pivot\n"
   ]
  },
  {
   "cell_type": "markdown",
   "id": "70fe47c6",
   "metadata": {},
   "source": [
    "# IPs with doq on multiple ports"
   ]
  },
  {
   "cell_type": "code",
   "execution_count": null,
   "id": "901b73b9",
   "metadata": {
    "scrolled": true
   },
   "outputs": [],
   "source": [
    "sqlQuicUncleanedPorts = \"\"\"\n",
    "select \n",
    "    strftime('%Y-%W', created_at) WeekNumber,\n",
    "    draft_version as doq_version, ip, port\n",
    "from q_versions;\n",
    "\"\"\"\n",
    "\n",
    "quic_uncleaned_ports = pd.read_sql_query(sqlQuicUncleanedPorts, connection_complete)\n",
    "quic_uncleaned_ports['port'] = quic_uncleaned_ports['port'].apply(str)\n",
    "quic_uncleaned_ports[\"doq_ports\"] = quic_ports[\"doq_version\"] + \"/\" + quic_ports[\"port\"]\n",
    "\n",
    "quic_ports_grouped_ips = quic_uncleaned_ports.groupby(['WeekNumber', 'ip']).agg(lambda col: ','.join(col))\n",
    "quic_ports_grouped_ips = quic_ports_grouped_ips[(quic_ports_grouped_ips['doq_version'] != 'doq-i00') & (quic_ports_grouped_ips['doq_version'] != 'doq-i02') & (quic_ports_grouped_ips['doq_version'] != 'doq-i03')]\n",
    "quic_ports_grouped_ips = quic_ports_grouped_ips.reset_index()\n"
   ]
  },
  {
   "cell_type": "code",
   "execution_count": null,
   "id": "081cc80f",
   "metadata": {},
   "outputs": [],
   "source": [
    "print(len(quic_ports_grouped_ips))\n",
    "print(quic_ports_grouped_ips['port'].unique())\n",
    "#471 ip/week combionations with multiple ports, where the only combination is 784,8853\n"
   ]
  },
  {
   "cell_type": "code",
   "execution_count": null,
   "id": "730b021d",
   "metadata": {
    "scrolled": true
   },
   "outputs": [],
   "source": [
    "quic_ports_grouped_ips[quic_ports_grouped_ips['ip'].isin(adguard_ips)]\n",
    "len(quic_ports_grouped_ips)\n",
    "# all multiple port usage are attributed to adguad \n"
   ]
  },
  {
   "cell_type": "markdown",
   "id": "42e22103",
   "metadata": {},
   "source": [
    "# ---------------------------------------------------------------------------------"
   ]
  },
  {
   "cell_type": "markdown",
   "id": "5e4155d4",
   "metadata": {},
   "source": [
    "# Increase in usage of DoQ-02 / QUIC 1 in weeks 50-01"
   ]
  },
  {
   "cell_type": "code",
   "execution_count": null,
   "id": "2e6eb329",
   "metadata": {},
   "outputs": [],
   "source": [
    "quic_certs_complete_dropped_duplicates = quic_certs_last.drop_duplicates(subset = ['ip'])\n",
    "quic_certs_complete_dropped_duplicates"
   ]
  },
  {
   "cell_type": "code",
   "execution_count": null,
   "id": "8452d660",
   "metadata": {
    "scrolled": true
   },
   "outputs": [],
   "source": [
    "quic_doq_versions_w50 = quic_doq_versions[quic_doq_versions['WeekNumber'] == '2021-50'][['ip', 'doq_quic']]\n",
    "quic_doq_versions_w51 = quic_doq_versions[quic_doq_versions['WeekNumber'] == '2021-51'][['ip', 'doq_quic']]\n",
    "quic_doq_versions_w52 = quic_doq_versions[quic_doq_versions['WeekNumber'] == '2021-52'][['ip', 'doq_quic']]\n",
    "quic_doq_versions_w01 = quic_doq_versions[quic_doq_versions['WeekNumber'] == '2022-01'][['ip', 'doq_quic']]\n",
    "\n",
    "quic_doq_versions_doq02_quic1_rampup_w51 = pd.merge(quic_doq_versions_w50, quic_doq_versions_w51, left_on='ip', right_on='ip', how='left')\n",
    "quic_doq_versions_doq02_quic1_rampup_w51.columns=['ip', 'doq_quic_50', 'doq_quic_51']\n",
    "quic_doq_versions_doq02_quic1_rampup_w51 = quic_doq_versions_doq02_quic1_rampup_w51[(quic_doq_versions_doq02_quic1_rampup_w51['doq_quic_50'] != 'DoQ_Draft_02/QUIC_1') & (quic_doq_versions_doq02_quic1_rampup_w51['doq_quic_51'] == 'DoQ_Draft_02/QUIC_1')]\n",
    "quic_doq_versions_doq02_quic1_rampup_w51 = pd.merge(quic_doq_versions_doq02_quic1_rampup_w51, quic_certs_complete_dropped_duplicates[['ip', 'common_name']], left_on='ip', right_on='ip', how='left')\n",
    "\n",
    "quic_doq_versions_doq02_quic1_rampup_w52 = pd.merge(quic_doq_versions_w51, quic_doq_versions_w52, left_on='ip', right_on='ip', how='left')\n",
    "quic_doq_versions_doq02_quic1_rampup_w52.columns=['ip', 'doq_quic_51', 'doq_quic_52']\n",
    "quic_doq_versions_doq02_quic1_rampup_w52 = quic_doq_versions_doq02_quic1_rampup_w52[(quic_doq_versions_doq02_quic1_rampup_w52['doq_quic_51'] != 'DoQ_Draft_02/QUIC_1') & (quic_doq_versions_doq02_quic1_rampup_w52['doq_quic_52'] == 'DoQ_Draft_02/QUIC_1')]\n",
    "quic_doq_versions_doq02_quic1_rampup_w52 = pd.merge(quic_doq_versions_doq02_quic1_rampup_w52, quic_certs_complete_dropped_duplicates[['ip', 'common_name']], left_on='ip', right_on='ip', how='left')\n",
    "\n",
    "quic_doq_versions_doq02_quic1_rampup_w01 = pd.merge(quic_doq_versions_w52, quic_doq_versions_w01, left_on='ip', right_on='ip', how='left')\n",
    "quic_doq_versions_doq02_quic1_rampup_w01.columns=['ip', 'doq_quic_52', 'doq_quic_01']\n",
    "quic_doq_versions_doq02_quic1_rampup_w01 = quic_doq_versions_doq02_quic1_rampup_w01[(quic_doq_versions_doq02_quic1_rampup_w01['doq_quic_52'] != 'DoQ_Draft_02/QUIC_1') & (quic_doq_versions_doq02_quic1_rampup_w01['doq_quic_01'] == 'DoQ_Draft_02/QUIC_1')]\n",
    "quic_doq_versions_doq02_quic1_rampup_w01 = pd.merge(quic_doq_versions_doq02_quic1_rampup_w01, quic_certs_complete_dropped_duplicates[['ip', 'common_name']], left_on='ip', right_on='ip', how='left')\n"
   ]
  },
  {
   "cell_type": "code",
   "execution_count": null,
   "id": "54965860",
   "metadata": {},
   "outputs": [],
   "source": [
    "#increase from w50 to w51-w01 are mostly from DoQ_Draft_02/QUIC_Draft_34\n",
    "print(quic_doq_versions_doq02_quic1_rampup_w51['doq_quic_50'].unique())\n",
    "print(quic_doq_versions_doq02_quic1_rampup_w52['doq_quic_51'].unique())\n",
    "print(quic_doq_versions_doq02_quic1_rampup_w01['doq_quic_52'].unique())\n",
    "\n",
    "#we find 'adguard' multiple times in the common names\n",
    "print(len(quic_doq_versions_doq02_quic1_rampup_w51[quic_doq_versions_doq02_quic1_rampup_w51['common_name'].str.contains('adguard').fillna(False)]))\n",
    "print(len(quic_doq_versions_doq02_quic1_rampup_w52[quic_doq_versions_doq02_quic1_rampup_w52['common_name'].str.contains('adguard').fillna(False)]))\n",
    "print(len(quic_doq_versions_doq02_quic1_rampup_w01[quic_doq_versions_doq02_quic1_rampup_w01['common_name'].str.contains('adguard').fillna(False)]))\n",
    "\n",
    "#checking the aguard home implementation, we find that AdGuard Home v0.107.0 adds QUIC 1 support, and was released on 21.12.2021 which is week 51 (see https://github.com/AdguardTeam/AdGuardHome/releases/tag/v0.107.0)\n"
   ]
  },
  {
   "cell_type": "code",
   "execution_count": null,
   "id": "c0019710",
   "metadata": {},
   "outputs": [],
   "source": []
  }
 ],
 "metadata": {
  "kernelspec": {
   "display_name": "Python 3.8.12",
   "language": "python",
   "name": "python3"
  },
  "language_info": {
   "codemirror_mode": {
    "name": "ipython",
    "version": 3
   },
   "file_extension": ".py",
   "mimetype": "text/x-python",
   "name": "python",
   "nbconvert_exporter": "python",
   "pygments_lexer": "ipython3",
   "version": "3.8.12"
  }
 },
 "nbformat": 4,
 "nbformat_minor": 5
}
